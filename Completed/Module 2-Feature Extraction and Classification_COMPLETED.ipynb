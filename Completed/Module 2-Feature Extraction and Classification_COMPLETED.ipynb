{
 "cells": [
  {
   "cell_type": "markdown",
   "metadata": {},
   "source": [
    "#### Workshop Description\n",
    "Understanding the questions posed by instructors and students alike plays an important role in the development of educational technology applications. In this intermediate level workshop, you will learn to apply NLP to one piece of this real-world problem by building a model to predict the type of answer (e.g. entity, description, number, etc.) a question elicits. Specifically, you will learn to:\n",
    "1. Perform preprocessing, normalization, and exploratory analysis on a question dataset,\n",
    "2. Identify salient linguistic features of natural language questions, and\n",
    "3. Experiment with different feature sets and models to predict the answer type.\n",
    "4. Use powerful pretrained language models to create dense sentence representations and apply deep learning models to text classification.\n",
    "\n",
    "The concepts will be taught using popular NLP and ML packages like SpaCy, Scikit Learn, and Tensorflow.\n",
    "\n",
    "This workshop assumes familiarity with Jupyter notebooks and the basics of scientific packages like numPy and sciPy. We also assume some basic knowledge of machine learning and deep learning techniques like CNNs, LSTMs, etc. Reference materials will be provided to gain a better understanding of these techniques for interested attendees.\n",
    "***"
   ]
  },
  {
   "cell_type": "markdown",
   "metadata": {},
   "source": [
    "# Feature Extraction & Classification\n",
    "\n",
    "This notebook is the 2nd of 3 for the Course Hero ODSC workshop \"Applications of NLP in EdTech.\" In this notebook, we will \n",
    "1. Extract important features from TREC question-classification text, \n",
    "2. Train and evaluate a Maximum Entropy classification model using these features, and \n",
    "3. Analyze the impact of each described featureset on the model's performance.\n",
    "\n",
    "The model we build here is decent, but there is still a lot that can be done to improve it. Treat this a challenge to take what we cover here and expand it on your own to try to get the best possible performance!\n",
    "\n",
    "**(Spoiler Alert)** In the next module (Module 3), We will also show you how to use deep learning to outperform the model developed here."
   ]
  },
  {
   "cell_type": "code",
   "execution_count": 1,
   "metadata": {},
   "outputs": [],
   "source": [
    "from typing import Dict, Tuple, List, Union\n",
    "\n",
    "get_ipython().config.get('IPKernelApp', {})['parent_appname'] = \"\""
   ]
  },
  {
   "cell_type": "code",
   "execution_count": 2,
   "metadata": {},
   "outputs": [],
   "source": [
    "from os.path import exists, join\n",
    "import sys\n",
    "sys.path.append('..')\n",
    "from download_data import main as download_trec_data\n",
    "import pandas as pd\n",
    "import requests\n",
    "import spacy\n",
    "\n",
    "nlp = spacy.load('en_core_web_md')"
   ]
  },
  {
   "cell_type": "markdown",
   "metadata": {},
   "source": [
    "### Download Data\n",
    "\n",
    "First let's download the train and test data from Xin Li, Dan Roth, Learning Question Classifiers. COLING'02, Aug., 2002.\n",
    "    <https://cogcomp.seas.upenn.edu/Data/QA/QC/\">https://cogcomp.seas.upenn.edu/Data/QA/QC/>\n",
    "    \n",
    "We will store these data in Pandas DataFrames containing the following columns:\n",
    "- *question*: The question text\n",
    "- *processed_question*: The question as a SpaCy Doc object\n",
    "- *coarse_label*: The coarse-grained label (6 classes)\n",
    "- *label*: The fine-grained label\n",
    "\n",
    "Recall that in Module 1, we found that some questions were duplicated. Let's remove those now."
   ]
  },
  {
   "cell_type": "code",
   "execution_count": 3,
   "metadata": {},
   "outputs": [],
   "source": [
    "if not exists(\"data\"):\n",
    "    train_df, test_df = download_trec_data()\n",
    "else:\n",
    "    path_to_train = join(\"data\", \"train.csv\")\n",
    "    path_to_test = join(\"data\", \"test.csv\")\n",
    "\n",
    "    train_df = pd.read_csv(join(\"data\", \"train.csv\"))\n",
    "    test_df = pd.read_csv(join(\"data\", \"test.csv\"))\n",
    "\n",
    "#\n",
    "# Dedupe from python module.\n",
    "#\n",
    "train_df = train_df.drop_duplicates(\"question\")\n",
    "test_df = test_df.drop_duplicates('question')\n",
    "\n",
    "#\n",
    "# Process questions with SpaCy\n",
    "#\n",
    "train_df['processed_question'] = train_df.question.apply(nlp)\n",
    "test_df['processed_question'] = test_df.question.apply(nlp)\n"
   ]
  },
  {
   "cell_type": "markdown",
   "metadata": {},
   "source": [
    "## Linguistic Features "
   ]
  },
  {
   "cell_type": "code",
   "execution_count": 4,
   "metadata": {},
   "outputs": [],
   "source": [
    "from nltk.corpus import wordnet as wn\n",
    "from sklearn.feature_extraction.stop_words import ENGLISH_STOP_WORDS as sw_1\n",
    "from nltk import ngrams as NLTK_ngrams\n",
    "from nltk.corpus import wordnet as wn"
   ]
  },
  {
   "cell_type": "markdown",
   "metadata": {},
   "source": [
    "When we perform machine learning on text data, there are a number of different features that may prove valuable in learning how to distinguish between our classes.\n",
    "\n",
    "Here, we break them down into \"Syntactic Features\" and \"Semantic Features\":"
   ]
  },
  {
   "cell_type": "markdown",
   "metadata": {},
   "source": [
    "- ### Syntactic Features: \n",
    "Features that reflect the structure of our sentences.\n",
    "\n",
    "\n",
    "1. **Word ngrams**: These are the length-n word sequences that occur in our data. Often, we add \"BOS\" and \"EOS\" tokens to mark the beginning and end of the sentence, respectively. For example, the \"bigrams\" (n=2) for the sentence \"This is an example\" would be {\"BOS this\", \"this is\", \"is an\", \"an example\", \"example EOS\"}. The order of `n` can be anything, though typically high orders of `n` result in such sparse features that they are no longer very useful. We will experiment with a few different values and ranges of `n`, and ultimately settle on \"unigrams\" (single words), and \"bigrams\" (pairs of adjacent words).\n",
    "  <u>Stopwords and Word ngrams</u>: Often, high-frequency words that serve a mostly functional purpose, eg. \"of\", \"the\", \"from\", are found to be of little help during text classification problems, and are thus removed from the text before ngram features are extracted. We can experiment with different sets of stopwords in our ngram-generation function.\n",
    "\n",
    "\n",
    "  2. **Part-of-Speech ngrams**: The length-n sequences of syntactic classes (eg Noun, Verb, Preposition) can allow us to generalize key information about the language used in our data. Since the set of Part-of-Speech tags is significantly smaller than the number of unique words, this feature set is much less sparse than word n-grams and can help us find more general word-level patterns.\n",
    "\n",
    "\n",
    "  3. **Dependency Triples**: Often, pairs of non-adjacent words, despite being located in different parts of a sentence, have a syntactic relationship. For example, in the two sentences below, the relationship between \"What\" and \"say\" can be characterized as one of \"direct object\" in both, despite their different word orderings. These relationships cannot be captured by n-grams, which only focus on groups of adjacent words. Instead, we can use SpaCy's powerful Universal Dependency parser to extract these relationships, and encode them as features. For details about Universal Dependency relationships, see <https://universaldependencies.org/>\n",
    "\n",
    "> \"What did Joanie say to Chachi?\"\n",
    "\n",
    "> \"Joanie said what to Chachi??\"\n",
    "\n",
    "\n",
    "\n",
    "-----------\n",
    "-----------\n",
    "\n",
    "**Exercise**: There are a number of interesting variations on the features we define here, as well as many other features that may prove valuable for this task. Use what you know about the data to try implementing your own features (Write feature functions that return a dict mapping <feature_value_name> to 1). For example, you can try replacing one of the words in each dependency triple with its Part-of-Speech (in SpaCy, you can get `<token>.pos_`).\n",
    "\n",
    "-------\n",
    "-------"
   ]
  },
  {
   "cell_type": "code",
   "execution_count": 5,
   "metadata": {},
   "outputs": [
    {
     "name": "stdout",
     "output_type": "stream",
     "text": [
      "SciKit-Learn stop words\n",
      "['a', 'about', 'above', 'across', 'after', 'afterwards', 'again', 'against', 'all', 'almost', 'alone', 'along', 'already', 'also', 'although', 'always', 'am', 'among', 'amongst', 'amoungst', 'amount', 'an', 'and', 'another', 'any', 'anyhow', 'anyone', 'anything', 'anyway', 'anywhere', 'are', 'around', 'as', 'at', 'back', 'be', 'became', 'because', 'become', 'becomes', 'becoming', 'been', 'before', 'beforehand', 'behind', 'being', 'below', 'beside', 'besides', 'between', 'beyond', 'bill', 'both', 'bottom', 'but', 'by', 'call', 'can', 'cannot', 'cant', 'co', 'con', 'could', 'couldnt', 'cry', 'de', 'describe', 'detail', 'do', 'done', 'down', 'due', 'during', 'each', 'eg', 'eight', 'either', 'eleven', 'else', 'elsewhere', 'empty', 'enough', 'etc', 'even', 'ever', 'every', 'everyone', 'everything', 'everywhere', 'except', 'few', 'fifteen', 'fifty', 'fill', 'find', 'fire', 'first', 'five', 'for', 'former', 'formerly', 'forty', 'found', 'four', 'from', 'front', 'full', 'further', 'get', 'give', 'go', 'had', 'has', 'hasnt', 'have', 'he', 'hence', 'her', 'here', 'hereafter', 'hereby', 'herein', 'hereupon', 'hers', 'herself', 'him', 'himself', 'his', 'how', 'however', 'hundred', 'i', 'ie', 'if', 'in', 'inc', 'indeed', 'interest', 'into', 'is', 'it', 'its', 'itself', 'keep', 'last', 'latter', 'latterly', 'least', 'less', 'ltd', 'made', 'many', 'may', 'me', 'meanwhile', 'might', 'mill', 'mine', 'more', 'moreover', 'most', 'mostly', 'move', 'much', 'must', 'my', 'myself', 'name', 'namely', 'neither', 'never', 'nevertheless', 'next', 'nine', 'no', 'nobody', 'none', 'noone', 'nor', 'not', 'nothing', 'now', 'nowhere', 'of', 'off', 'often', 'on', 'once', 'one', 'only', 'onto', 'or', 'other', 'others', 'otherwise', 'our', 'ours', 'ourselves', 'out', 'over', 'own', 'part', 'per', 'perhaps', 'please', 'put', 'rather', 're', 'same', 'see', 'seem', 'seemed', 'seeming', 'seems', 'serious', 'several', 'she', 'should', 'show', 'side', 'since', 'sincere', 'six', 'sixty', 'so', 'some', 'somehow', 'someone', 'something', 'sometime', 'sometimes', 'somewhere', 'still', 'such', 'system', 'take', 'ten', 'than', 'that', 'the', 'their', 'them', 'themselves', 'then', 'thence', 'there', 'thereafter', 'thereby', 'therefore', 'therein', 'thereupon', 'these', 'they', 'thick', 'thin', 'third', 'this', 'those', 'though', 'three', 'through', 'throughout', 'thru', 'thus', 'to', 'together', 'too', 'top', 'toward', 'towards', 'twelve', 'twenty', 'two', 'un', 'under', 'until', 'up', 'upon', 'us', 'very', 'via', 'was', 'we', 'well', 'were', 'what', 'whatever', 'when', 'whence', 'whenever', 'where', 'whereafter', 'whereas', 'whereby', 'wherein', 'whereupon', 'wherever', 'whether', 'which', 'while', 'whither', 'who', 'whoever', 'whole', 'whom', 'whose', 'why', 'will', 'with', 'within', 'without', 'would', 'yet', 'you', 'your', 'yours', 'yourself', 'yourselves']\n",
      "\n",
      "\n",
      "\n",
      "NLTK stop words\n",
      "['a', 'about', 'above', 'after', 'again', 'against', 'ain', 'all', 'am', 'an', 'and', 'any', 'are', 'aren', \"aren't\", 'as', 'at', 'be', 'because', 'been', 'before', 'being', 'below', 'between', 'both', 'but', 'by', 'can', 'couldn', \"couldn't\", 'd', 'did', 'didn', \"didn't\", 'do', 'does', 'doesn', \"doesn't\", 'doing', 'don', \"don't\", 'down', 'during', 'each', 'few', 'for', 'from', 'further', 'had', 'hadn', \"hadn't\", 'has', 'hasn', \"hasn't\", 'have', 'haven', \"haven't\", 'having', 'he', 'her', 'here', 'hers', 'herself', 'him', 'himself', 'his', 'how', 'i', 'if', 'in', 'into', 'is', 'isn', \"isn't\", 'it', \"it's\", 'its', 'itself', 'just', 'll', 'm', 'ma', 'me', 'mightn', \"mightn't\", 'more', 'most', 'mustn', \"mustn't\", 'my', 'myself', 'needn', \"needn't\", 'no', 'nor', 'not', 'now', 'o', 'of', 'off', 'on', 'once', 'only', 'or', 'other', 'our', 'ours', 'ourselves', 'out', 'over', 'own', 're', 's', 'same', 'shan', \"shan't\", 'she', \"she's\", 'should', \"should've\", 'shouldn', \"shouldn't\", 'so', 'some', 'such', 't', 'than', 'that', \"that'll\", 'the', 'their', 'theirs', 'them', 'themselves', 'then', 'there', 'these', 'they', 'this', 'those', 'through', 'to', 'too', 'under', 'until', 'up', 've', 'very', 'was', 'wasn', \"wasn't\", 'we', 'were', 'weren', \"weren't\", 'what', 'when', 'where', 'which', 'while', 'who', 'whom', 'why', 'will', 'with', 'won', \"won't\", 'wouldn', \"wouldn't\", 'y', 'you', \"you'd\", \"you'll\", \"you're\", \"you've\", 'your', 'yours', 'yourself', 'yourselves']\n",
      "\n",
      "\n",
      "\n",
      "{'aren', 'having', \"you're\", 'theirs', \"you'll\", 'shouldn', \"you've\", \"didn't\", 'll', 'doing', 'hadn', 'couldn', \"mustn't\", 'hasn', 'isn', \"hasn't\", \"that'll\", 'haven', \"hadn't\", \"isn't\", \"it's\", \"wouldn't\", 'mustn', \"should've\", 'did', \"won't\", 't', 'does', 's', \"don't\", \"aren't\", \"wasn't\", 'don', 'ain', 'ma', \"shan't\", 'd', \"she's\", 'won', 'just', 'weren', 'm', 'doesn', 'mightn', \"needn't\", 've', 'didn', 'wasn', \"shouldn't\", 'shan', \"weren't\", \"haven't\", \"couldn't\", \"doesn't\", 'o', 'needn', 'wouldn', 'y', \"mightn't\", \"you'd\"}\n"
     ]
    }
   ],
   "source": [
    "#\n",
    "# Explore some different default stopword lists\n",
    "#\n",
    "print(\"SciKit-Learn stop words\")\n",
    "print(sorted(sw_1))\n",
    "print(\"\\n\\n\")\n",
    "print(\"NLTK stop words\")\n",
    "from nltk.corpus import stopwords\n",
    "sw_2 = stopwords.words('english')\n",
    "print(sorted(sw_2))\n",
    "\n",
    "print('\\n\\n')\n",
    "print(set(sw_2).difference(sw_1))"
   ]
  },
  {
   "cell_type": "code",
   "execution_count": 6,
   "metadata": {},
   "outputs": [],
   "source": [
    "modified_question_stopwords = set([\n",
    "    'a', 'about', 'above', 'after', 'again', 'against', \n",
    "    'ain', 'all', 'am', 'an', 'and', 'any', 'are', 'aren', \n",
    "    \"aren't\", 'as', 'at', 'be', 'because', 'been', 'before', \n",
    "    'being', 'below', 'between', 'both', 'but', 'by', 'can', \n",
    "    'couldn', \"couldn't\", 'd', 'doing', 'don', \"don't\", 'down', \n",
    "    'during', 'each', 'few', 'for', 'from', 'further', 'had', \n",
    "    'hadn', \"hadn't\", 'has', 'hasn', \"hasn't\", 'have', \n",
    "    'haven', \"haven't\", 'having', 'he', 'her', 'here', 'hers', \n",
    "    'herself', 'him', 'himself', 'his', 'i', 'if', 'in', \n",
    "    'into', 'is', 'isn', \"isn't\", 'it', \"it's\", 'its', 'itself', \n",
    "    'just', 'll', 'm', 'ma', 'me', 'mightn', \"mightn't\", 'more', \n",
    "    'most', 'mustn', \"mustn't\", 'my', 'myself', 'needn', \"needn't\", \n",
    "    'no', 'nor', 'not', 'now', 'o', 'of', 'off', 'on', 'once',\n",
    "    'only', 'or', 'other', 'our', 'ours', 'ourselves', 'out', \n",
    "    'over', 'own', 're', 's', 'same', 'shan', \"shan't\", 'she', \n",
    "    \"she's\", 'should', \"should've\", 'shouldn', \"shouldn't\", 'so', \n",
    "    'some', 'such', 't', 'than', 'that', \"that'll\", 'the', \n",
    "    'their', 'theirs', 'them', 'themselves', 'then', 'there', \n",
    "    'these', 'they', 'this', 'those', 'through', 'to', 'too', \n",
    "    'under', 'until', 'up', 've', 'very', 'was', 'wasn', \"wasn't\", \n",
    "    'we', 'were', 'weren', \"weren't\", 'while', 'with', 'won', \n",
    "    \"won't\", 'wouldn', \"wouldn't\", 'y', 'you', \"you'd\", \"you'll\", \n",
    "    \"you're\", \"you've\", 'your', 'yours', 'yourself', 'yourselves'])"
   ]
  },
  {
   "cell_type": "code",
   "execution_count": 7,
   "metadata": {},
   "outputs": [],
   "source": [
    "#\n",
    "# Demonstrate dependency parses for two sentences with different \n",
    "# word orders.\n",
    "#\n",
    "doc1 = nlp(\"What did Joanie say to Chachi?\")\n",
    "doc2 = nlp(u\"Joanie said what to Chachi??\")\n"
   ]
  },
  {
   "cell_type": "code",
   "execution_count": 8,
   "metadata": {},
   "outputs": [],
   "source": [
    "# spacy.displacy.serve(doc1, style='dep')"
   ]
  },
  {
   "cell_type": "code",
   "execution_count": 9,
   "metadata": {},
   "outputs": [],
   "source": [
    "# spacy.displacy.serve(doc2, style='dep')"
   ]
  },
  {
   "cell_type": "markdown",
   "metadata": {},
   "source": [
    "![dep_nobj-2](./../images/joanie-chachie-2.png)\n",
    "![dep_nobj-1](../images/joanie-chachie-1.png)"
   ]
  },
  {
   "cell_type": "markdown",
   "metadata": {},
   "source": [
    "### Syntactic Feature Function Implementations"
   ]
  },
  {
   "cell_type": "code",
   "execution_count": 10,
   "metadata": {},
   "outputs": [],
   "source": [
    "def word_ngrams(question: spacy.tokens.doc.Doc, \n",
    "                ngram_range: Tuple[int] = (1, 2), \n",
    "                stopwords: Union[List[str], None] = None, \n",
    "                lower: bool = False) -> Dict[str, int]:\n",
    "    \"\"\"\n",
    "    Generate word n-grams for a piece of text. Use NLTK_ngrams(<List[str]>, n) \n",
    "    function to generate n-grams for order `n`.\n",
    "    \n",
    "    Parameters\n",
    "    ----------\n",
    "    question: spacy.tokens.doc.Doc\n",
    "        A spacy Doc (ie a string that has been processed via eg `nlp(s)`)\n",
    "        \n",
    "    ngram_range: tuple of ints \n",
    "        A tuple of min and max n for ngrams.\n",
    "        \n",
    "    stopwords: List of str or None \n",
    "        List of words to exclude. For present purposes, when `n` > 1, only \n",
    "        exclude the ngram if all of its tokens are stopwords.\n",
    "        \n",
    "    lower: bool \n",
    "        A boolean indicating whether to lowercase the text in the ngrams.\n",
    "\n",
    "    Returns\n",
    "    -------\n",
    "    dict\n",
    "        Map of feature names to 1.\n",
    "    \"\"\"\n",
    "    ngram_dict = {}    \n",
    "    stopwords = (set([]) if stopwords is None \n",
    "                 else {w.lower() for w in stopwords})\n",
    "    \n",
    "    if lower:\n",
    "        tokens = [t.text.lower() for t in question]\n",
    "    else:\n",
    "        tokens = [t.text for t in question]\n",
    "    \n",
    "    min_n, max_n = ngram_range\n",
    "    for n in range(min_n, max_n + 1):\n",
    "        if n > 1:\n",
    "            tokens = [\"<BOS>\"] + tokens + [\"<EOS>\"]\n",
    "        ngrams_for_n = NLTK_ngrams(tokens, n)\n",
    "        for ng in ngrams_for_n:\n",
    "            if all(w in stopwords for w in ng):\n",
    "                continue\n",
    "            feature_key = \"{}gram={}\".format(n, \" \".join(ng))\n",
    "            ngram_dict[feature_key] = 1\n",
    "    return ngram_dict"
   ]
  },
  {
   "cell_type": "code",
   "execution_count": 11,
   "metadata": {},
   "outputs": [],
   "source": [
    "def pos_ngrams(question: spacy.tokens.doc.Doc, \n",
    "               ngram_range: Tuple[int] = (1, 2)\n",
    "              ) -> Dict[str, int]:\n",
    "    \"\"\"\n",
    "    Generate Part-of-speech n-grams for a piece of text. \n",
    "    Use NLTK_ngrams(<List[str]>, n) function to generate \n",
    "    n-grams for order `n`, and SpaCy's <token>.tag_ for detailed\n",
    "    Part-of-Speech tags (alternatively you could try \n",
    "    <token>.pos_ for simple Part-of-Speech tags from the Universal \n",
    "    Part-of-Speech tag set.)\n",
    "    \n",
    "    Parameters\n",
    "    ----------\n",
    "    question: spacy.tokens.doc.Doc\n",
    "        A spacy Doc (ie a string that has been processed via eg `nlp(s)`)\n",
    "        \n",
    "    ngram_range: tuple of ints \n",
    "        A tuple of min and max n for ngrams.\n",
    "        \n",
    "    Returns\n",
    "    -------\n",
    "    dict\n",
    "        Map of feature names to 1.\n",
    "        \n",
    "    \"\"\"\n",
    "    ngram_dict = {}\n",
    "    tokens = [t.tag_ for t in question]\n",
    "    min_n, max_n = ngram_range\n",
    "    for n in range(min_n, max_n + 1):\n",
    "        if n > 1:\n",
    "            tokens = [\"<BOS>\"] + tokens + [\"<EOS>\"]\n",
    "        for ng in NLTK_ngrams(tokens, n):\n",
    "            feature_key = \"POS_{}gram={}\".format(n, \" \".join(ng))\n",
    "            ngram_dict[feature_key] = 1\n",
    "    return ngram_dict"
   ]
  },
  {
   "cell_type": "code",
   "execution_count": 12,
   "metadata": {},
   "outputs": [],
   "source": [
    "def dependency_triples(question: spacy.tokens.doc.Doc, \n",
    "                       lemmatize: bool = True\n",
    "                      ) -> Dict[(str, int)]:\n",
    "    \"\"\"\n",
    "    Extract all (head, dependent, relation) dependency-triples for a \n",
    "    piece of text. Later, also substitute named entities with their type,\n",
    "    or substitute either all heads or all dependents with their part of \n",
    "    speech.\n",
    "    \n",
    "    For each SpaCy token, `<token>.head` gives the text of the head token \n",
    "    for its dependency relationship, and `<token>.dep_` gives the relationship \n",
    "    type.\n",
    "    \n",
    "    To enable lemmatization of the tokens in the dependency triple, use \n",
    "    `<token>.lemma_`.\n",
    "    \n",
    "    Parameters\n",
    "    ----------\n",
    "    question: SpaCy Doc\n",
    "        A question processed by a SpaCy model.\n",
    "        \n",
    "    lemmatize: bool\n",
    "        Indicates whether or not to use the lemmas instead of the surface \n",
    "        token forms.\n",
    "    \n",
    "    Returns\n",
    "    -------\n",
    "    dict:\n",
    "        A map of feature names to 1.\n",
    "        \n",
    "    \"\"\"\n",
    "    deps = {}\n",
    "    for token in question:\n",
    "        head, dependent, relation = token.head, token, token.dep_\n",
    "        if relation == 'ROOT':\n",
    "            continue\n",
    "        #\n",
    "        # If specified, replace the tokens with their lemmas.\n",
    "        #\n",
    "        if lemmatize:\n",
    "            head = head.lemma_\n",
    "            dependent = dependent.lemma_\n",
    "        #\n",
    "        # Otherwise, replace NE tokens with the NE type.\n",
    "        #\n",
    "        else:\n",
    "            head = head.ent_type_ if head.ent_type_ else head\n",
    "            dependent = dependent.ent_type_ if dependent.ent_type_ else dependent\n",
    "            \n",
    "        deps[\"dependencies#{}-{}-{}\".format(head, dependent, relation).lower()] = 1\n",
    "    return deps\n"
   ]
  },
  {
   "cell_type": "markdown",
   "metadata": {},
   "source": [
    "- ### Semantic Features \n",
    "Features that focus on the meaning of word(s) or sentence(s).\n",
    "\n",
    "\n",
    "  1. **Brown Cluster n-grams**: Brown clusters are a very useful grouping of words into classes based on their distributional information. Thus, words that occur frequently in similar contexts are more likely to be in the same class. This allows us to generalize word n-grams using distributional semantic similarity to reduce feature sparsity. For more details about brown clusters, see [the original paper](https://www.aclweb.org/anthology/J92-4003.pdf). Fortunately, SpaCy's \"md\" and \"lg\" pretrained models come with Brown Cluster assignments for all words in the vocabulary. You can access them with `<Token>.cluster`.\n",
    "  \n",
    "  \n",
    "  2. **Named-Entity Types**: When Named Entities are present in a sentence, use the NE type (ie 'PERSON', 'ORG', etc) as a feature. See <a href=\"https://spacy.io/api/annotation#named-entities\">This list</a> of all of the NE types identified with a pretrained SpaCy model.\n",
    "  \n",
    "  \n",
    "  3. **Primary NP-Head Hypernyms**: Many \"What\" and \"Who\" questions ask about a specific Noun Phrase, which we will call \"Primary\". In the following two examples, I've underlined the \"Primary\" Noun chunk.\n",
    "\n",
    "> \"What <u>_ocean_</u> does Mauritania border\"</em></p>\n",
    "\n",
    "> \"What is <u>the largest _lake_</u> in the United States?\"\n",
    "\n",
    "  In these examples, we should be able to detect that they are asking for the same answer type ('LOC'). One helpful technique is to use the Primary Noun Phrase head (\"ocean\" and \"lake\") both refer to places/bodies of water/physical entities. One nice way to do identify the similarities between these two NP heads is to use [WordNet](https://wordnet.princeton.edu/) for extraction the semantic relationships between the words.\n",
    "  In this case, once we identify the head of the Primary Noun Phrase, we would like to generalize it to its <a href=\"https://en.wikipedia.org/wiki/Hyponymy_and_hypernymy\">hypernyms</a>. One easy way to understand this is that a \"hyponym\" is a \"type of\" its hypernym. In the previous examples, both \"lake\" and \"ocean\" are types of \"body of water\", \"physical entities\", etc.</p>\n",
    "\n",
    "As far as identifying the \"primary Noun Phrase\" and its \"head\", we can use some simple, mostly-accurate heuristics (see <a href=\"https://dl.acm.org/citation.cfm?id=1613835\">Question classification using head words and their hypernyms</a> for detailed discussion of this technique and some more advanced approaches that could improve your model). For present purposes, we will use the following simple definition:\n",
    "\n",
    "_The primary Noun Phrase of \"What\" (and some \"Who\") questions is the leftmost Noun chunk after the WH word. Its head is the right-most Noun in that chunk, ignoring Nouns embedded in Prepositional Phrases (The head Noun of \"The picture of friend\" would be \"picture\", not \"friend\")._"
   ]
  },
  {
   "cell_type": "markdown",
   "metadata": {},
   "source": [
    "<h4> Semantic Feature Function Implementations </h4>"
   ]
  },
  {
   "cell_type": "code",
   "execution_count": 13,
   "metadata": {},
   "outputs": [],
   "source": [
    "def brown_cluster_ngrams(question: spacy.tokens.doc.Doc, \n",
    "                         ngram_range: Tuple[int] = (1, 2)\n",
    "                        ) -> Dict[str, int]:\n",
    "    \"\"\"\n",
    "    Generate Brown Cluster id n-grams for a piece of text. \n",
    "    \n",
    "    Parameters\n",
    "    ----------\n",
    "    question: spacy.tokens.doc.Doc\n",
    "        A spacy Doc (ie a string that has been processed via eg `nlp(s)`)\n",
    "        \n",
    "    ngram_range: tuple of ints \n",
    "        A tuple of min and max n for ngrams.\n",
    "        \n",
    "    Returns\n",
    "    -------\n",
    "    dict\n",
    "        Map of feature names to 1.\n",
    "\n",
    "    \"\"\"\n",
    "    ngram_dict = {}\n",
    "    min_n, max_n = ngram_range\n",
    "    cluster_id_tokens = [t.cluster for t in question]\n",
    "\n",
    "    for n in range(min_n, max_n + 1):\n",
    "        cluster_ngrams = NLTK_ngrams(cluster_id_tokens, n)\n",
    "        for ng in cluster_ngrams:\n",
    "            ngram_str = \" \".join([str(i) for i in ng])\n",
    "            feature_key = (\"Cluster_{}gram={}\".format(n, ngram_str))\n",
    "            ngram_dict[feature_key] = 1\n",
    "    return ngram_dict"
   ]
  },
  {
   "cell_type": "code",
   "execution_count": 14,
   "metadata": {},
   "outputs": [],
   "source": [
    "def ne_types(question: spacy.tokens.doc.Doc) -> Dict[str, int]:\n",
    "    \"\"\"\n",
    "    Retrives the types of all of the named entities present in a given question.\n",
    "    \n",
    "    Parameters\n",
    "    ----------\n",
    "    question: SpaCy Doc \n",
    "        A question that has been processed via eg `nlp(<question_string>)`\n",
    "    \n",
    "    Returns\n",
    "    -------\n",
    "    dict\n",
    "        Map of feature names to 1.\n",
    "\n",
    "    \"\"\"\n",
    "    ents = {}\n",
    "    for token in question:\n",
    "        if token.ent_type_:\n",
    "            ent_value = token.ent_type_\n",
    "            ents['NE_type={}'.format(ent_value)] = 1\n",
    "    return ents"
   ]
  },
  {
   "cell_type": "code",
   "execution_count": 15,
   "metadata": {},
   "outputs": [],
   "source": [
    "#\n",
    "# This cell contains all of the functions for generating the set of hypernyms for a \n",
    "# \"primary\" noun head in a \"What\" question.\n",
    "#\n",
    "\n",
    "def get_noun_hypernyms(word: str) -> List[str]:\n",
    "    \"\"\"\n",
    "    Given a word, get the Noun hypernym synsets from WordNet (via nltk).\n",
    "    \n",
    "    Parameters\n",
    "    ----------\n",
    "    word: str\n",
    "        The word for which we will return the synsets.\n",
    "    \n",
    "    Returns\n",
    "    -------\n",
    "    list of str\n",
    "        All of Noun hypernyms for `word`.\n",
    "        \n",
    "    \"\"\"\n",
    "    return list({hypernym.name().split('.')[0] \n",
    "                 for synset in wn.synsets(word, 'n') \n",
    "                 for hypernym in get_hypernyms_from_synset(synset)})\n",
    "\n",
    "\n",
    "def get_hypernyms_from_synset(synset):\n",
    "    \"\"\"\n",
    "    Given a WordNet Synset, get all of its hypernymic synsets.\n",
    "    \n",
    "    Parameters\n",
    "    ----------\n",
    "    synset: nltk.corpus.reader.wordnet.Synset\n",
    "        The synset for which we want the hypernymic synsets.\n",
    "    \n",
    "    Returns\n",
    "    -------\n",
    "    set of nltk.corpus.reader.wordnet.Synset\n",
    "        All of the synsets in WordNet that are hypernyms of the \n",
    "        provided synset.\n",
    "        \n",
    "    \"\"\"\n",
    "    hypernyms = set()\n",
    "    for hypernym in synset.hypernyms():\n",
    "        hypernyms |= set(get_hypernyms_from_synset(hypernym))\n",
    "    return hypernyms | set(synset.hypernyms())\n",
    "\n",
    "\n",
    "def extract_primary_np_head(\n",
    "    question: spacy.tokens.doc.Doc\n",
    ") -> spacy.tokens.token.Token:\n",
    "    \"\"\"\n",
    "    Find the \"Primary Noun Head\", as defined by our simple heuristic.\n",
    "    Only try to extract if the provided question is a \"What\" question.\n",
    "    \n",
    "    Parameters\n",
    "    ----------\n",
    "    question: SpaCy Doc\n",
    "        A question processed by a SpaCy model.\n",
    "    \n",
    "    Returns\n",
    "    -------\n",
    "    SpaCy Token\n",
    "        The token object corresponding to the head of the primary Noun.\n",
    "    \"\"\"\n",
    "    if question[0].text != 'What':\n",
    "        return None\n",
    "    noun_chunks = list(question.noun_chunks)\n",
    "    if not noun_chunks:\n",
    "        return None\n",
    "    \n",
    "    if len(noun_chunks[0]) > 1:  # is there more than 1 token in the first noun chunk?\n",
    "        return noun_chunks[0][-1]\n",
    "    elif len(noun_chunks) >= 2:\n",
    "        primary_np = noun_chunks[1]\n",
    "        return primary_np[-1]\n",
    "        \n",
    "\n",
    "def primary_np_head_hypernyms(\n",
    "    question: spacy.tokens.doc.Doc\n",
    ") -> Dict[str, int]:\n",
    "    \"\"\"\n",
    "    Identify the Primary NP's head token for \"What\" questions, \n",
    "    as defined by our simple heuristic above. Use SpaCy's `<doc>.noun_chunks`\n",
    "    to get the noun chunks. In this case, we want to find either:\n",
    "        1) the left-most token in the noun chunk immediately following 'What', or\n",
    "        2) the Noun\n",
    "        \n",
    "    Parameters\n",
    "    ----------\n",
    "    question: SpaCy Doc\n",
    "        A question processed by a SpaCy model.\n",
    "    \n",
    "    Returns\n",
    "    -------\n",
    "    dict\n",
    "        Mapping from feature name to 1.\n",
    "        \n",
    "    \"\"\"\n",
    "    primary_np_head = extract_primary_np_head(question)\n",
    "    if primary_np_head is None:\n",
    "        return {}\n",
    "    else:\n",
    "        return {\"PrimaryNPHeadHypernym={}\".format(hyp): 1 \n",
    "                for hyp in get_noun_hypernyms(primary_np_head.text)}"
   ]
  },
  {
   "cell_type": "code",
   "execution_count": 16,
   "metadata": {},
   "outputs": [],
   "source": [
    "import math\n",
    "\n",
    "def length(question: spacy.tokens.doc.Doc) -> Dict[str, int]:\n",
    "    \"\"\"\n",
    "    Get the number of chars to use as a feature. To convert to a binary \n",
    "    feature with limited sparsity, calculate the log(base2) of the number \n",
    "    of characters, and round the result to the nearest integer.\n",
    "    \n",
    "    \"\"\"\n",
    "    num_chars = len(str(question))\n",
    "    binned_length = round(math.log(num_chars, 2))\n",
    "    return {\"log2charcount={}\".format(binned_length): 1}"
   ]
  },
  {
   "cell_type": "code",
   "execution_count": 17,
   "metadata": {},
   "outputs": [],
   "source": [
    "#\n",
    "# Write Function to Extract All Features into a Single dict.\n",
    "#\n",
    "def create_full_feature_dict(question, feature_funcs_dict):\n",
    "    feature_dict = {}\n",
    "    for func, kwargs in feature_funcs_dict.items():\n",
    "        feature_dict.update(func(question, **kwargs))\n",
    "    return feature_dict"
   ]
  },
  {
   "cell_type": "markdown",
   "metadata": {},
   "source": [
    "<h4>10-fold Cross-Validation Using Multinomial Logistic Regression </h4>\n",
    "<br>\n",
    "<div> \n",
    "    <p>Often, models are evaluated by training on one subset of the data, and predicting/evaluating on a held-out set. To improve on this technique, we can split all of our data into k subsets, and repeat the train/evaluate process k times, each time training on k-1 partitions and evaluating on the remaining partition. This gives us a lower-variance, higher-confidence performance estimate than simply evaluating on a single held out set. This process is known as <a href=\"https://www.cs.cmu.edu/~schneide/tut5/node42.html\">cross-validation</a></p> \n",
    "    <p> We will perform 10-fold cross-validation, using the weighted <a href=\"https://en.wikipedia.org/wiki/F1_score\">f1 score</a>, on multiple combinations of featuresets. Specifically, we will start with a single feature (word n-grams), and add featuresets one at a time to later evaluate the impact of each feature on model performance.\n",
    "</div>\n",
    "\n",
    "<p> We will use a Maximum Entropy (multinomial Logistic Regression) model as the classifier. The parameter values should provide good performance, but could likely be improved with Grid Search over the hyperparameter space.</p>"
   ]
  },
  {
   "cell_type": "code",
   "execution_count": 18,
   "metadata": {},
   "outputs": [],
   "source": [
    "from sklearn.feature_extraction import DictVectorizer\n",
    "from sklearn.linear_model import LogisticRegression\n",
    "from sklearn.metrics import classification_report, confusion_matrix, f1_score\n",
    "from sklearn.model_selection import KFold"
   ]
  },
  {
   "cell_type": "code",
   "execution_count": 19,
   "metadata": {},
   "outputs": [],
   "source": [
    "from collections import OrderedDict\n",
    "\n",
    "\n",
    "all_feature_functions = OrderedDict({\n",
    "    word_ngrams: {\"lower\": True},  #, \"stopwords\": modified_question_stopwords}, \n",
    "    pos_ngrams: {}, \n",
    "    dependency_triples: {'lemmatize': True}, \n",
    "    ne_types: {},\n",
    "    brown_cluster_ngrams: {}, \n",
    "    primary_np_head_hypernyms: {}, \n",
    "    length: {}\n",
    "})"
   ]
  },
  {
   "cell_type": "code",
   "execution_count": 20,
   "metadata": {},
   "outputs": [],
   "source": [
    "f1_scores_dist = {}"
   ]
  },
  {
   "cell_type": "code",
   "execution_count": 21,
   "metadata": {},
   "outputs": [],
   "source": [
    "def train_and_evaluate(train_X, train_y, test_X, test_y, print_report=False):\n",
    "    \"\"\"\n",
    "    Train a Maximum Entropy model and calculate the f1 score on a test \n",
    "    partition. Optionally, print a classification report.\n",
    "    \"\"\"\n",
    "    clf = LogisticRegression(C=100., fit_intercept=True, multi_class='auto')\n",
    "    clf.fit(train_X, train_y)\n",
    "    predictions = clf.predict(test_X)\n",
    "\n",
    "    if print_report:\n",
    "        print(classification_report(test_y, predictions))\n",
    "\n",
    "    f1 = f1_score(test_y, predictions, average='weighted')        \n",
    "    return f1, clf, predictions"
   ]
  },
  {
   "cell_type": "code",
   "execution_count": 22,
   "metadata": {},
   "outputs": [],
   "source": [
    "n_splits = 10\n",
    "seed = 12345\n",
    "cv = KFold(n_splits=n_splits, random_state=seed)\n",
    "folds_indeces = list(cv.split(train_df.index))"
   ]
  },
  {
   "cell_type": "code",
   "execution_count": 23,
   "metadata": {},
   "outputs": [],
   "source": [
    "def xval_with_weighted_f1(folds, feature_functions):\n",
    "    \"\"\"\n",
    "    Run cross-validation on `folds` folds, extracting features with the\n",
    "    feature functions provided.\n",
    "    \n",
    "    Parameters\n",
    "    ----------\n",
    "    folds: int\n",
    "        The number of folds.\n",
    "    \n",
    "    feature_functions: list of callable\n",
    "        The feature functions that will be used to generate features for xval.\n",
    "    \n",
    "    Returns\n",
    "    -------\n",
    "    list of floats\n",
    "        The weighted f1 score for each fold.\n",
    "        \n",
    "    \"\"\"\n",
    "    \n",
    "    feature_vectorizer = DictVectorizer()\n",
    "    scores = []\n",
    "    \n",
    "    feature_dict_func = lambda q: create_full_feature_dict(q, feature_functions)\n",
    "    \n",
    "    for i, (train_index, val_index) in enumerate(folds_indeces):\n",
    "        train_rows = train_df.iloc[train_index]\n",
    "        train_labels = train_rows.coarse_label\n",
    "        train_questions = train_rows.processed_question\n",
    "        train_feature_dicts = train_questions.apply(feature_dict_func)\n",
    "        train_X = feature_vectorizer.fit_transform(train_feature_dicts)\n",
    "        \n",
    "        test_rows = train_df.iloc[val_index]\n",
    "        test_labels = test_rows.coarse_label\n",
    "        test_questions = test_rows.processed_question\n",
    "        test_feature_dicts = test_questions.apply(feature_dict_func)\n",
    "        test_X = feature_vectorizer.transform(test_feature_dicts)\n",
    "        \n",
    "        f1_score, clf, preds = train_and_evaluate(train_X, train_labels, test_X, test_labels)\n",
    "        scores.append(f1_score)\n",
    "        \n",
    "    return scores, (feature_vectorizer, clf, preds, test_labels)"
   ]
  },
  {
   "cell_type": "code",
   "execution_count": 24,
   "metadata": {},
   "outputs": [
    {
     "name": "stderr",
     "output_type": "stream",
     "text": [
      "/Users/rpugh/anaconda3/envs/py36/lib/python3.6/site-packages/sklearn/linear_model/logistic.py:433: FutureWarning: Default solver will be changed to 'lbfgs' in 0.22. Specify a solver to silence this warning.\n",
      "  FutureWarning)\n"
     ]
    },
    {
     "name": "stdout",
     "output_type": "stream",
     "text": [
      "wn: [0.8660845360389002, 0.8715230260885306, 0.8717761945346422, 0.846760555599536, 0.8484630601288915, 0.8673840946026775, 0.8499850258436262, 0.863633416458853, 0.8664949601029762, 0.8934725137236023]\n",
      "wn+pn: [0.8824109325113255, 0.8589231808946328, 0.8611157309056892, 0.8387631696026571, 0.8678745271397267, 0.8685854219840842, 0.8400077003989876, 0.8730551674235646, 0.8565344127918894, 0.8858448231277167]\n",
      "wn+pn+dt: [0.8971784479920577, 0.8698616173551271, 0.8792241860208788, 0.8594487325523702, 0.8771650799714532, 0.8920503546111992, 0.8561929846731865, 0.8827937610435962, 0.8621332074585455, 0.8954324538491617]\n",
      "wn+pn+dt+nt: [0.8989708751536154, 0.8715209048667861, 0.8738475306887166, 0.8555932607354488, 0.880317521635331, 0.886756517003541, 0.85834811283671, 0.8809617318145875, 0.8619854565494918, 0.8888895197282417]\n",
      "wn+pn+dt+nt+bcn: [0.9058602394058476, 0.875175686542085, 0.8819604848484707, 0.8571950442142093, 0.8882136508901513, 0.8872832513316271, 0.867000993271265, 0.8905028381048611, 0.8740155441790168, 0.8936461522231904]\n",
      "wn+pn+dt+nt+bcn+pnhh: [0.9206479252297495, 0.90570613146379, 0.8891420925180233, 0.8848666601439145, 0.9032589277195958, 0.8879309314793212, 0.8963359078807683, 0.9063378696563691, 0.8942701280986544, 0.9091145412718415]\n",
      "wn+pn+dt+nt+bcn+pnhh+l: [0.9171542273699598, 0.9093253124544804, 0.8948452020010154, 0.8849575644217043, 0.9051090902104971, 0.8897918872564415, 0.8998531365102637, 0.9105491273269448, 0.8924092937080851, 0.9090047514700029]\n"
     ]
    }
   ],
   "source": [
    "#\n",
    "# Calculate the f1-score for each fold of a variety of feature combinations.\n",
    "#\n",
    "\n",
    "featureset_score_tracker = {}\n",
    "current_features_to_use = {}\n",
    "feature_names = []\n",
    "for feature_func, kwargs in all_feature_functions.items():\n",
    "    current_features_to_use[feature_func] = kwargs\n",
    "    feature_names.append(feature_func.__name__)\n",
    "    experiment_name = \"+\".join([''.join([w[0] for w in n.split('_')]) for n in feature_names])\n",
    "    weighted_f1_dist, (feature_vectorizer, clf, preds, test_labels) = xval_with_weighted_f1(10, \n",
    "                                                                               current_features_to_use)\n",
    "    print(\"{}: {}\".format(experiment_name, weighted_f1_dist))\n",
    "    featureset_score_tracker[experiment_name] = weighted_f1_dist\n"
   ]
  },
  {
   "cell_type": "markdown",
   "metadata": {},
   "source": [
    "### Interpreting Coefficients\n",
    "We can take the 10th fold of our most recent model (the one that used all of the features together), and which features the model found most impactful in the training data. We do this by using `<model>.coef_[i]`, where `i` is the index of the label of interest. The higher the coefficient value for a feature, the more impact it has on the final prediction. Below we list the top 20 features for each coarse-grained label."
   ]
  },
  {
   "cell_type": "code",
   "execution_count": 25,
   "metadata": {
    "scrolled": false
   },
   "outputs": [
    {
     "name": "stdout",
     "output_type": "stream",
     "text": [
      "ABBR\n",
      "NE_type=ORG\n",
      "Cluster_1gram=1957\n",
      "dependencies#for-what-pobj\n",
      "1gram=jessica\n",
      "2gram=does jessica\n",
      "2gram=jessica mean\n",
      "dependencies#mean-jessica-nsubj\n",
      "1gram=afs\n",
      "1gram=deet\n",
      "2gram=afs ?\n",
      "2gram=deet ?\n",
      "2gram=is afs\n",
      "2gram=is deet\n",
      "dependencies#be-afs-nsubj\n",
      "dependencies#be-deet-nsubj\n",
      "1gram=svhs\n",
      "2gram=is svhs\n",
      "2gram=svhs ?\n",
      "dependencies#be-svhs-nsubj\n",
      "Cluster_2gram=762 0\n",
      "\n",
      "\n",
      "DESC\n",
      "1gram=why\n",
      "2gram=<BOS> why\n",
      "1gram=how\n",
      "2gram=<BOS> how\n",
      "Cluster_2gram=702 762\n",
      "Cluster_1gram=3082\n",
      "2gram=how does\n",
      "POS_2gram=WRB VBD\n",
      "2gram=how can\n",
      "POS_2gram=WRB VBZ\n",
      "POS_2gram=WRB VBP\n",
      "dependencies#happen-what-nsubj\n",
      "dependencies#make-what-nsubj\n",
      "2gram=what is\n",
      "1gram=mean\n",
      "dependencies#cause-?-punct\n",
      "dependencies#do-what-dobj\n",
      "dependencies#be-what-attr\n",
      "Cluster_1gram=31146\n",
      "dependencies#cause-what-nsubj\n",
      "\n",
      "\n",
      "ENTY\n",
      "2gram=<BOS> what\n",
      "1gram=what\n",
      "1gram=animal\n",
      "2gram=of ?\n",
      "Cluster_1gram=1145\n",
      "Cluster_2gram=11946 0\n",
      "2gram=called ?\n",
      "PrimaryNPHeadHypernym=matter\n",
      "Cluster_1gram=805\n",
      "2gram=what did\n",
      "PrimaryNPHeadHypernym=creation\n",
      "Cluster_1gram=77\n",
      "PrimaryNPHeadHypernym=animal\n",
      "PrimaryNPHeadHypernym=shape\n",
      "Cluster_1gram=1785\n",
      "Cluster_2gram=11 479\n",
      "PrimaryNPHeadHypernym=product\n",
      "dependencies#say--pron--nsubj\n",
      "POS_1gram=IN\n",
      "1gram=disease\n",
      "\n",
      "\n",
      "HUM\n",
      "2gram=<BOS> who\n",
      "1gram=who\n",
      "PrimaryNPHeadHypernym=body\n",
      "Cluster_1gram=549\n",
      "PrimaryNPHeadHypernym=name\n",
      "Cluster_1gram=9\n",
      "2gram=name ?\n",
      "POS_2gram=<BOS> WDT\n",
      "Cluster_1gram=4005\n",
      "Cluster_1gram=1061\n",
      "1gram=company\n",
      "Cluster_2gram=4021 0\n",
      "Cluster_1gram=789\n",
      "PrimaryNPHeadHypernym=person\n",
      "PrimaryNPHeadHypernym=activity\n",
      "PrimaryNPHeadHypernym=social_group\n",
      "PrimaryNPHeadHypernym=causal_agent\n",
      "Cluster_2gram=4090 1014\n",
      "Cluster_2gram=479 633\n",
      "Cluster_1gram=4077\n",
      "\n",
      "\n",
      "LOC\n",
      "2gram=<BOS> where\n",
      "1gram=where\n",
      "Cluster_1gram=73\n",
      "PrimaryNPHeadHypernym=body_of_water\n",
      "PrimaryNPHeadHypernym=location\n",
      "NE_type=LOC\n",
      "Cluster_1gram=1013\n",
      "PrimaryNPHeadHypernym=thing\n",
      "PrimaryNPHeadHypernym=structure\n",
      "Cluster_1gram=569\n",
      "POS_2gram=WP NN\n",
      "PrimaryNPHeadHypernym=physical_entity\n",
      "PrimaryNPHeadHypernym=large_indefinite_quantity\n",
      "Cluster_1gram=845\n",
      "dependencies#be-where-advmod\n",
      "PrimaryNPHeadHypernym=machine\n",
      "1gram=country\n",
      "PrimaryNPHeadHypernym=object\n",
      "PrimaryNPHeadHypernym=computer\n",
      "1gram=state\n",
      "\n",
      "\n",
      "NUM\n",
      "POS_2gram=WRB JJ\n",
      "2gram=<BOS> when\n",
      "Cluster_1gram=190\n",
      "POS_2gram=WRB RB\n",
      "1gram=when\n",
      "2gram=what year\n",
      "PrimaryNPHeadHypernym=magnitude\n",
      "PrimaryNPHeadHypernym=measure\n",
      "Cluster_1gram=29\n",
      "NE_type=DATE\n",
      "dependencies#year-what-det\n",
      "1gram=year\n",
      "2gram=how many\n",
      "dependencies#many-how-advmod\n",
      "PrimaryNPHeadHypernym=magnitude_relation\n",
      "Cluster_2gram=702 29\n",
      "PrimaryNPHeadHypernym=ratio\n",
      "Cluster_2gram=702 751\n",
      "PrimaryNPHeadHypernym=possession\n",
      "1gram=many\n",
      "\n",
      "\n"
     ]
    }
   ],
   "source": [
    "for i, label in enumerate(('ABBR', 'DESC', 'ENTY', 'HUM', 'LOC', 'NUM')):\n",
    "    top_features = sorted(list(zip(feature_vectorizer.get_feature_names(), \n",
    "                                   clf.coef_[i])), \n",
    "                          key=lambda t: t[1], \n",
    "                          reverse=True)[:20]\n",
    "    print(label)\n",
    "    for feature_name, weight in top_features:\n",
    "        print(\"{}\".format(feature_name))\n",
    "    print('\\n')"
   ]
  },
  {
   "cell_type": "markdown",
   "metadata": {},
   "source": [
    "### Plot Confusion Matrix for 10th Fold"
   ]
  },
  {
   "cell_type": "code",
   "execution_count": 32,
   "metadata": {},
   "outputs": [],
   "source": [
    "import matplotlib.pyplot as plt\n",
    "%matplotlib inline"
   ]
  },
  {
   "cell_type": "code",
   "execution_count": 33,
   "metadata": {},
   "outputs": [],
   "source": [
    "def plot_confusion_matrix(cm, labels=None):\n",
    "    fig = plt.figure()\n",
    "    ax = fig.add_subplot(111)\n",
    "    cax = ax.matshow(cm)\n",
    "    fig.colorbar(cax)\n",
    "    if labels:\n",
    "        ax.set_xticklabels([''] + labels)\n",
    "        ax.set_yticklabels([''] + labels)\n",
    "    plt.xlabel('Predicted')\n",
    "    plt.ylabel('True')\n",
    "    plt.show()"
   ]
  },
  {
   "cell_type": "code",
   "execution_count": 34,
   "metadata": {},
   "outputs": [
    {
     "data": {
      "image/png": "[encoded data removed]",
      "text/plain": [
       "<Figure size 432x288 with 2 Axes>"
      ]
     },
     "metadata": {
      "needs_background": "light"
     },
     "output_type": "display_data"
    }
   ],
   "source": [
    "from sklearn.metrics import confusion_matrix\n",
    "import numpy as np\n",
    "\n",
    "labels = sorted(set(test_labels))\n",
    "cm = confusion_matrix(test_labels, preds, labels=labels)\n",
    "row_sums = cm.sum(axis=1)\n",
    "normalized_cm = cm / row_sums[:, np.newaxis]\n",
    "\n",
    "plot_confusion_matrix(normalized_cm, labels=labels)"
   ]
  },
  {
   "cell_type": "markdown",
   "metadata": {},
   "source": [
    "### Plot Cross-Validated F1-score for Different Featuresets"
   ]
  },
  {
   "cell_type": "code",
   "execution_count": 35,
   "metadata": {},
   "outputs": [
    {
     "data": {
      "image/png": "[encoded data removed]",
      "text/plain": [
       "<Figure size 576x360 with 1 Axes>"
      ]
     },
     "metadata": {
      "needs_background": "light"
     },
     "output_type": "display_data"
    }
   ],
   "source": [
    "#\n",
    "# Draw box-and-whisker plots to show the performances over all 10 folds for each \n",
    "# featureset combination.\n",
    "#\n",
    "labels = sorted(featureset_score_tracker.keys(), key=len)\n",
    "fig = plt.figure(1, figsize=(8, 5))\n",
    "ax = fig.add_subplot(111)\n",
    "data_to_plot = [featureset_score_tracker[l] for l in labels]\n",
    "ax.boxplot(data_to_plot)\n",
    "ax.set_xticklabels(labels, rotation=90)\n",
    "ax.set_ylabel(\"Weighted F1\")\n",
    "plt.title(\"Comparison of Some Feature Combinations\")\n",
    "plt.grid(True)\n",
    "plt.show()"
   ]
  },
  {
   "cell_type": "markdown",
   "metadata": {},
   "source": [
    "### Train on Entire Training Set and Evaluate on Heldout Data\n",
    "Now that we have explored how our model performs on different folds of the training data, let's see how well it generalizes to the held-out test set."
   ]
  },
  {
   "cell_type": "code",
   "execution_count": 36,
   "metadata": {},
   "outputs": [
    {
     "name": "stderr",
     "output_type": "stream",
     "text": [
      "/Users/rpugh/anaconda3/envs/py36/lib/python3.6/site-packages/sklearn/linear_model/logistic.py:433: FutureWarning: Default solver will be changed to 'lbfgs' in 0.22. Specify a solver to silence this warning.\n",
      "  FutureWarning)\n"
     ]
    },
    {
     "name": "stdout",
     "output_type": "stream",
     "text": [
      "              precision    recall  f1-score   support\n",
      "\n",
      "        ABBR       1.00      0.78      0.88         9\n",
      "        DESC       0.93      0.99      0.95       138\n",
      "        ENTY       0.89      0.84      0.86        94\n",
      "         HUM       0.95      0.95      0.95        65\n",
      "         LOC       0.93      0.94      0.93        81\n",
      "         NUM       0.96      0.94      0.95       113\n",
      "\n",
      "   micro avg       0.93      0.93      0.93       500\n",
      "   macro avg       0.94      0.91      0.92       500\n",
      "weighted avg       0.93      0.93      0.93       500\n",
      "\n"
     ]
    }
   ],
   "source": [
    "feature_function = lambda q: create_full_feature_dict(q, all_feature_functions)\n",
    "\n",
    "train_labels = train_df.coarse_label\n",
    "train_questions = train_df.processed_question\n",
    "train_feature_dicts = train_questions.apply(feature_function)\n",
    "train_X = feature_vectorizer.fit_transform(train_feature_dicts)\n",
    "\n",
    "test_labels = test_df.coarse_label\n",
    "test_questions = test_df.processed_question\n",
    "test_feature_dicts = test_questions.apply(feature_function)\n",
    "test_X = feature_vectorizer.transform(test_feature_dicts)\n",
    "\n",
    "_, _, preds = train_and_evaluate(train_X, train_labels, test_X, test_labels, print_report=True)"
   ]
  },
  {
   "cell_type": "markdown",
   "metadata": {},
   "source": [
    "### What's Next?\n",
    "There is still a lot you can do to improve the model's performance. For instance, you could\n",
    "1. <u>Try creating conjunctive features</u>: In addition to adding multiple feature sets as we have done above, another thing you can do is try to find features that, when combined, make a new, more valuable feature. A simple example could be, instead of using one feature to represent a word form and another to represent its part-of-speech, try a conjunctive feature that contains both (eg instead of word unigram \"say\", and pos unigram \"VB\", you could make a single feature \"say//VB\"). \n",
    "\n",
    "\n",
    "2. <u> Explore/Combine different models </u>: There are so many ways to model the features we have extracted here. We had some success using a Maximum Entropy model, but you may get some interesting results by using a tree-based model instead. Ensemble methods, which use multiple classifiers to improve the final predictions, are also worth exploring here.\n",
    "\n",
    "##### Resources\n",
    "- Here is an older but valuable [paper](http://jmlr.csail.mit.edu/papers/volume3/guyon03a/guyon03a.pdf) about the process of feature selection.\n",
    "- [Ensemble Methods Overview](https://en.wikipedia.org/wiki/Ensemble_learning)\n",
    "- [Here](https://www.researchgate.net/publication/220637945_From_symbolic_to_sub-symbolic_information_in_question_classification) is a great paper showing how far you can take linguistic feature engineering to achieve very high peformance on this task."
   ]
  },
  {
   "cell_type": "markdown",
   "metadata": {},
   "source": [
    "\n",
    "---\n",
    "\n",
    "In the next module, we will cover how to use representation learning and pre-trained deep learning models as an alternative to the manual feature-engineering we did here. "
   ]
  }
 ],
 "metadata": {
  "kernelspec": {
   "display_name": "Python 3",
   "language": "python",
   "name": "python3"
  },
  "language_info": {
   "codemirror_mode": {
    "name": "ipython",
    "version": 3
   },
   "file_extension": ".py",
   "mimetype": "text/x-python",
   "name": "python",
   "nbconvert_exporter": "python",
   "pygments_lexer": "ipython3",
   "version": "3.6.8"
  }
 },
 "nbformat": 4,
 "nbformat_minor": 2
}
