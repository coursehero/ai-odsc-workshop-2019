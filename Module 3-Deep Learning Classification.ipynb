{
 "cells": [
  {
   "cell_type": "markdown",
   "metadata": {},
   "source": [
    "#### Workshop Description\n",
    "Understanding the questions posed by instructors and students alike plays an important role in the development of educational technology applications. In this intermediate level workshop, you will learn to apply NLP to one piece of this real-world problem by building a model to predict the type of answer (e.g. entity, description, number, etc.) a question elicits. Specifically, you will learn to:\n",
    "1. Perform preprocessing, normalization, and exploratory analysis on a question dataset,\n",
    "2. Identify salient linguistic features of natural language questions, and\n",
    "3. Experiment with different feature sets and models to predict the answer type.\n",
    "4. Use powerful pretrained language models to create dense sentence representations and apply deep learning models to text classification.\n",
    "\n",
    "The concepts will be taught using popular NLP and ML packages like SpaCy, Scikit Learn, and Tensorflow.\n",
    "\n",
    "This workshop assumes familiarity with Jupyter notebooks and the basics of scientific packages like numPy and sciPy. We also assume some basic knowledge of machine learning and deep learning techniques like CNNs, LSTMs, etc. Reference materials will be provided to gain a better understanding of these techniques for interested attendees.\n",
    "***"
   ]
  },
  {
   "cell_type": "markdown",
   "metadata": {},
   "source": [
    "\n",
    "# Deep Representation Learning to classify TREC question-classification text\n",
    "\n",
    "**Overview:** \n",
    "In this session we'll try to solve the TREC question-classification problem by using a few popular Deep Learning Algorithms.\n",
    "Concretely, we will use pre-trained Language Models to generate **representations(Embeddings)** for our input data and then classify these representations using a shallow neural network.\n",
    "We will examine the network architectures of **Universal Sentence Encoder(USE)** and **Bidirectional Encoder Representation from Transformers(BERT)** and touch upon the pros and cons of these architectures in classifying TREC question-classification data.\n",
    "\n",
    "### What you'll learn:\n",
    "- How to use **Keras** for Text classification\n",
    "- How to generate representations using pre-trained **Universal Sentence Encoder: USE**\n",
    "- How to tune and evaluate Deep Learning models \n",
    "- How to use **Tensorflow** for Text classification\n",
    "- How to use pre-trained Language Model **Bidirectional Encoder Representation from Transformers: BERT** for Text classification\n",
    "\n",
    "**Note:** We will be using the same dataset as the previous 2 sessions. Notebook links to the previous session are available **INSERT LINK**"
   ]
  },
  {
   "cell_type": "markdown",
   "metadata": {},
   "source": [
    "### Word Represenations:\n",
    "![dep_nobj-1](images/Word2Vec.png)"
   ]
  },
  {
   "cell_type": "markdown",
   "metadata": {},
   "source": [
    "### Utility Functions\n",
    "The following two utility functions provide functionality that can be used across different models to inspect training metrics and performance. These will be used at a later point in time."
   ]
  },
  {
   "cell_type": "code",
   "execution_count": 85,
   "metadata": {},
   "outputs": [],
   "source": [
    "#Matplotlib Plotting Import\n",
    "import matplotlib.pyplot as plt\n",
    "\n",
    "def plot_training_history(history):\n",
    "    \"\"\"\n",
    "    Function to plot training accuracy/loss, validation accuracy/loss.\n",
    "    \n",
    "    Parameters\n",
    "    ----------\n",
    "    history: \n",
    "        Keras training history object. See: https://keras.io/callbacks/#history\n",
    "    \n",
    "    Returns\n",
    "    -------\n",
    "    \n",
    "    \"\"\"\n",
    "    \n",
    "    # Plot training & validation accuracy values\n",
    "    plt.plot(history.history['acc'])\n",
    "    plt.plot(history.history['val_acc'])\n",
    "    plt.title('Model accuracy')\n",
    "    plt.ylabel('Accuracy')\n",
    "    plt.xlabel('Epoch')\n",
    "    plt.legend(['Train', 'Val'], loc='upper left')\n",
    "    plt.show()\n",
    "\n",
    "    # Plot training & validation loss values\n",
    "    plt.plot(history.history['loss'])\n",
    "    plt.plot(history.history['val_loss'])\n",
    "    plt.title('Model loss')\n",
    "    plt.ylabel('Loss')\n",
    "    plt.xlabel('Epoch')\n",
    "    plt.legend(['Train', 'Val'], loc='upper left')\n",
    "    plt.show()"
   ]
  },
  {
   "cell_type": "code",
   "execution_count": 86,
   "metadata": {},
   "outputs": [],
   "source": [
    "import numpy as np\n",
    "\n",
    "#Keras Imports: USE Embedding Classification\n",
    "from keras.layers import Dense, Input, Dropout\n",
    "from keras.models import Model, load_model\n",
    "from keras.utils.np_utils import to_categorical\n",
    "from keras.callbacks import ModelCheckpoint, EarlyStopping\n",
    "\n",
    "#Sklearn Utility Imports\n",
    "from sklearn import preprocessing\n",
    "from sklearn.metrics import classification_report\n",
    "from sklearn.model_selection import KFold\n",
    "\n",
    "def generate_classification_report(model_path, label_encoder, test_features, test_labels, class_names=None):\n",
    "    \"\"\"\n",
    "    Function to generate SKLearn based multi class classification report\n",
    "    \n",
    "    Parameters\n",
    "    ----------\n",
    "    model_path: Path to trained model.\n",
    "    label_encoder: Encoder used during label transformation\n",
    "    test_features: Features for test.\n",
    "    test_labels: Ground truth labels\n",
    "    class_names: Class names for the true and pred integer values\n",
    "    \n",
    "    Returns\n",
    "    -------\n",
    "    dict: sklearn.metrics.classification_report\n",
    "        MultiClass Classification Report.\n",
    "    \"\"\"\n",
    "    \n",
    "    # Load pre-trained model\n",
    "    model = load_model(model_path)\n",
    "    \n",
    "    # Predict labels for test features\n",
    "    preds = model.predict(test_features)\n",
    "    \n",
    "    # Since the model is trained to return a set of probabilities across the label set, \n",
    "    # we'll have to find the index of label set with the highest probability score.\n",
    "    preds_index = np.argmax(preds, axis=1)\n",
    "    \n",
    "    # Converting the predicted index into the original TREC based label\n",
    "    preds_labels = label_encoder.inverse_transform(preds_index)\n",
    "    \n",
    "    return classification_report(test_labels, preds_labels, target_names=label_encoder.classes_)"
   ]
  },
  {
   "cell_type": "markdown",
   "metadata": {},
   "source": [
    "### Download Data\n",
    "\n",
    "First let's download the train and test data from Xin Li, Dan Roth, Learning Question Classifiers. COLING'02, Aug., 2002.\n",
    "    <https://cogcomp.seas.upenn.edu/Data/QA/QC/\">https://cogcomp.seas.upenn.edu/Data/QA/QC/>\n",
    "    \n",
    "We will store these data in Pandas DataFrames (and write them as .csv files) containing the following columns:\n",
    "- *question*: The question text\n",
    "- *processed_question*: The question as a SpaCy Doc object\n",
    "- *coarse_label*: The coarse-grained label (6 classes)\n",
    "- *label*: The fine-grained label\n",
    "\n",
    "Recall that in Module 1, we found that some questions were duplicated. Let's remove those now."
   ]
  },
  {
   "cell_type": "code",
   "execution_count": 87,
   "metadata": {},
   "outputs": [],
   "source": [
    "import os\n",
    "import pandas as pd\n",
    "from download_data import main as download_trec_data\n",
    "\n",
    "path_to_train = os.path.join(\"data\", \"train.csv\")\n",
    "path_to_test = os.path.join(\"data\", \"test.csv\")\n",
    "\n",
    "train_df = pd.read_csv(os.path.join(\"data\", \"train.csv\"))\n",
    "test_df = pd.read_csv(os.path.join(\"data\", \"test.csv\"))\n",
    "\n",
    "#\n",
    "# Dedupe from python module.\n",
    "#\n",
    "train_df = train_df.drop_duplicates(\"question\")\n",
    "test_df = test_df.drop_duplicates('question')"
   ]
  },
  {
   "cell_type": "markdown",
   "metadata": {},
   "source": [
    "## Universal Sentence Encoder\n",
    "<u>Reference Paper</u>: https://arxiv.org/abs/1803.11175<br>\n",
    "<u>Announcement</u>: https://ai.googleblog.com/2018/05/advances-in-semantic-textual-similarity.html<br><br>\n",
    "**Universal Sentence Encoder (USE)** is a versatile sentence embedding model that convert sentences into vector representations. These vectors capture rich semantic information that can be used to train classifiers for a broad range of downstream tasks.\n",
    "\n",
    "![dep_nobj-1](images/USE.png)\n",
    "\n",
    "Note: USE can work on small multi sentence paragraphs.\n",
    "\n",
    "\n",
    "### High level steps for classifying text using pre-trained USE model: \n",
    "- Download Pre-trained USE Model from Tensorflow HUB<br>\n",
    "- Extract USE Repesentations for both train and test sets<br>\n",
    "- Define a the classification network architecture<br>\n",
    "- Start Training\n"
   ]
  },
  {
   "cell_type": "markdown",
   "metadata": {},
   "source": [
    "### Data Prep for USE Q&A classification"
   ]
  },
  {
   "cell_type": "code",
   "execution_count": 88,
   "metadata": {},
   "outputs": [],
   "source": [
    "import re\n",
    "def pre_process_text(input_text):\n",
    "    \"\"\"\n",
    "    Function to normalize text by applying NLP tranformations.\n",
    "    \n",
    "    Parameters\n",
    "    ----------\n",
    "    input_text: String \n",
    "        Question text from the input sample\n",
    "        \n",
    "    Returns\n",
    "    -------\n",
    "    String\n",
    "        pre-processed version of input string\n",
    "    \"\"\"\n",
    "    #Exercise: build multiple models based on diferrent pre-processing techniques.\n",
    "    #Un-Comment the below line to see if the model performance improves by introducing additional \n",
    "    #input_text = re.sub('[^A-Za-z0-9 ,\\?\\'\\\"-._\\+\\!/\\`@=;:]+', '', input_text)\n",
    "    return input_text.lower()"
   ]
  },
  {
   "cell_type": "markdown",
   "metadata": {},
   "source": [
    "##### Extract the raw question text and labels from the training and test dataframes:"
   ]
  },
  {
   "cell_type": "code",
   "execution_count": 89,
   "metadata": {},
   "outputs": [],
   "source": [
    "features_train = train_df['question'].to_list()\n",
    "features_test  = test_df['question'].to_list()\n",
    "labels_train   = train_df['coarse_label'].to_list()\n",
    "labels_test    = test_df['coarse_label'].to_list()"
   ]
  },
  {
   "cell_type": "markdown",
   "metadata": {},
   "source": [
    "##### Pre-Process the text used for training and test"
   ]
  },
  {
   "cell_type": "code",
   "execution_count": 90,
   "metadata": {},
   "outputs": [],
   "source": [
    "# Pre-Process the text used for training and test\n",
    "features_train_processed = list(map(lambda x:pre_process_text(x), features_train))\n",
    "features_test_processed = list(map(lambda x:pre_process_text(x), features_test))"
   ]
  },
  {
   "cell_type": "markdown",
   "metadata": {},
   "source": [
    "##### The labels for the training and test set are in a string format (eg: ABBR, DESC etc). These labels need to be converted into a numerical set using [Scikit Learn's Label Encoder](https://scikit-learn.org/stable/modules/generated/sklearn.preprocessing.LabelEncoder.html)"
   ]
  },
  {
   "cell_type": "code",
   "execution_count": 91,
   "metadata": {},
   "outputs": [],
   "source": [
    "# Pre-Process labels for training\n",
    "label_encoder = preprocessing.LabelEncoder()\n",
    "labels_train_tranformed = label_encoder.fit_transform(labels_train)\n",
    "labels_train_categorical = to_categorical(np.asarray(labels_train_tranformed))\n",
    "# Note: We do not have to \"fit\" the label encoder for the test set since they already have been fit on the trainset\n",
    "labels_test_transformed = label_encoder.transform(labels_test)\n",
    "labels_test_categorical = to_categorical(np.asarray(labels_test_transformed))"
   ]
  },
  {
   "cell_type": "markdown",
   "metadata": {},
   "source": [
    "##### Download and load the pre-trained Universal Sentence Encoder from Tensorflow Hub"
   ]
  },
  {
   "cell_type": "code",
   "execution_count": 92,
   "metadata": {},
   "outputs": [],
   "source": [
    "#Tensorflow Imports\n",
    "import tensorflow as tf\n",
    "import tensorflow_hub as hub\n",
    "\n",
    "pre_trained_use_embed_model = hub.Module(\"https://tfhub.dev/google/universal-sentence-encoder/2\")"
   ]
  },
  {
   "cell_type": "markdown",
   "metadata": {},
   "source": [
    "##### Generate sentence/phrase representations of the training and test text data using the above downloaded USE model"
   ]
  },
  {
   "cell_type": "code",
   "execution_count": 93,
   "metadata": {},
   "outputs": [
    {
     "name": "stderr",
     "output_type": "stream",
     "text": [
      "I1020 23:56:27.558945 139704171878208 saver.py:1499] Saver not created because there are no variables in the graph to restore\n",
      "I1020 23:56:33.227357 139704171878208 saver.py:1499] Saver not created because there are no variables in the graph to restore\n"
     ]
    }
   ],
   "source": [
    "embeddings_features_train = []\n",
    "embeddings_features_test = []\n",
    "with tf.Session() as session:\n",
    "    session.run([tf.global_variables_initializer(), tf.tables_initializer()])\n",
    "    embeddings_features_train.append(session.run(pre_trained_use_embed_model(features_train_processed)))\n",
    "    embeddings_features_test.append(session.run(pre_trained_use_embed_model(features_test_processed)))"
   ]
  },
  {
   "cell_type": "code",
   "execution_count": 94,
   "metadata": {},
   "outputs": [],
   "source": [
    "# Inspect the shape of the input embeddings\n",
    "question_embeddings_train = embeddings_features_train[0]\n",
    "question_embeddings_test = embeddings_features_test[0]"
   ]
  },
  {
   "cell_type": "code",
   "execution_count": 95,
   "metadata": {},
   "outputs": [
    {
     "data": {
      "text/plain": [
       "512"
      ]
     },
     "execution_count": 95,
     "metadata": {},
     "output_type": "execute_result"
    }
   ],
   "source": [
    "# Inspect the shape of the input embeddings\n",
    "question_embeddings_train.shape[1]"
   ]
  },
  {
   "cell_type": "markdown",
   "metadata": {},
   "source": [
    "### Model Definition for USE Q&A classification\n",
    "\n",
    "We will use the [Keras Functional API Guide](https://keras.io/getting-started/functional-api-guide/#first-example-a-densely-connected-network) to build and train the USE Q&A classifier network."
   ]
  },
  {
   "cell_type": "code",
   "execution_count": 96,
   "metadata": {},
   "outputs": [],
   "source": [
    "class QNAClassifier():\n",
    "    \"\"\"\n",
    "    Q&A classifier class using Keras framework\n",
    "    \"\"\"\n",
    "    \n",
    "    def __init__(self, experiment_name):\n",
    "        \"\"\"\n",
    "        Init function\n",
    "        \n",
    "        Parameters\n",
    "        ----------\n",
    "        experiment_name: String\n",
    "            Name of the experiment. This will be used to name the model checkpoints.\n",
    "            \n",
    "        \"\"\"\n",
    "        \n",
    "        #Exercise: Modify the below hyper parameters to create variations of the USE Q&A classifier model.\n",
    "        self.patience = 10\n",
    "        self.epochs = 100\n",
    "        self.batch_size = 64\n",
    "        \n",
    "        self.experiment_name = experiment_name\n",
    "        self.output_dir = 'models'\n",
    "        self.class_count = 6\n",
    "        self.model = None\n",
    "        \n",
    "        # Creating an output directory for the generated models.\n",
    "        if not os.path.exists(self.output_dir):\n",
    "            os.makedirs(self.output_dir)\n",
    "\n",
    "    \n",
    "    def train_vanilla_nn(self, embeddings_train, labels_train, embeddings_test, labels_test):\n",
    "        \"\"\"\n",
    "        Simple Feed forward neural network with 1 Dense layer to classify Q&A embeddings.\n",
    "        \n",
    "        Parameters\n",
    "        ----------\n",
    "        embeddings_train: Numpy Array\n",
    "            USE embedding repesentation of the training set.\n",
    "            \n",
    "        labels_train: Numpy Array\n",
    "            Categorical encoded labels for the training set.\n",
    "            \n",
    "        embeddings_test: Numpy Array\n",
    "            USE embedding repesentation of the test set.\n",
    "            \n",
    "        labels_test: Numpy Array\n",
    "            Categorical encoded labels for the test set.\n",
    "            \n",
    "        Returns\n",
    "        -------\n",
    "        Keras history object\n",
    "            See: https://keras.io/callbacks/#history\n",
    "        \n",
    "        \"\"\"\n",
    "        \n",
    "        # Network Architecture: Input Layer(Embeddings)-> Dense Layer -> Softmax layer\n",
    "        # Exercise: Change the size of the hidden layer and the activation unit.\n",
    "        embedding_inputs = Input(shape=(embeddings_train.shape[1],))\n",
    "        x = Dense(256, activation='relu')(embedding_inputs)\n",
    "        predictions = Dense(self.class_count, activation='softmax')(x)\n",
    "        \n",
    "        self.model = Model(inputs=embedding_inputs, outputs=predictions)\n",
    "        self.model.compile(loss='categorical_crossentropy', optimizer='adam', metrics=['acc'])\n",
    "        \n",
    "        # Keras Callbacks\n",
    "        early_stopping = EarlyStopping(monitor='val_acc', patience=self.patience)\n",
    "        model_filename = self.output_dir + \"/\" + self.experiment_name\n",
    "        checkpoint = ModelCheckpoint(model_filename + '.{epoch:03d}-{val_acc:.4f}.hdf5',\n",
    "                                     monitor='val_acc', verbose=1,\n",
    "                                     save_best_only=True, mode='auto')\n",
    "        \n",
    "        # Start Training\n",
    "        training_history = self.model.fit(embeddings_train, labels_train, \n",
    "                                          validation_data = (embeddings_test, labels_test),\n",
    "                                          epochs= self.epochs,\n",
    "                                          batch_size=self.batch_size,\n",
    "                                          callbacks=[checkpoint, early_stopping])\n",
    "        \n",
    "        return training_history\n",
    "    \n",
    "    def train_vanilla_nn_cross_validated(self, embeddings_train, labels_train, embeddings_test, labels_test):\n",
    "        \"\"\"\n",
    "        K-Fold Cross validated simple Feed forward neural network with 1 Dense layer to classify Q&A embeddings.\n",
    "        \n",
    "        Parameters\n",
    "        ----------\n",
    "        embeddings_train: Numpy Array\n",
    "            USE embedding repesentation of the training set.\n",
    "            \n",
    "        labels_train: Numpy Array\n",
    "            Categorical encoded labels for the training set.\n",
    "            \n",
    "        embeddings_test: Numpy Array\n",
    "            USE embedding repesentation of the test set.\n",
    "            \n",
    "        labels_test: Numpy Array\n",
    "            Categorical encoded labels for the test set.\n",
    "            \n",
    "        Returns\n",
    "        -------\n",
    "        list of training history objects\n",
    "            Keras training history object. See: https://keras.io/callbacks/#history\n",
    "            \n",
    "        \"\"\"\n",
    "\n",
    "        # Network Architecture: Input Layer(Embeddings)-> Dense Layer -> Softmax layer\n",
    "        # Exercise: Change the size of the hidden layer and the activation unit.\n",
    "        embedding_inputs = Input(shape=(embeddings_train.shape[1],))\n",
    "        x = Dense(64, activation='relu')(embedding_inputs)\n",
    "        predictions = Dense(self.class_count, activation='softmax')(x)\n",
    "        \n",
    "        self.model = Model(inputs=embedding_inputs, outputs=predictions)\n",
    "        self.model.compile(loss='categorical_crossentropy', optimizer='rmsprop', metrics=['acc'])\n",
    "        \n",
    "        early_stopping = EarlyStopping(monitor='val_acc', patience=self.patience)\n",
    "        \n",
    "        training_histories = []\n",
    "        counter = 0\n",
    "        \n",
    "        #Exercise: Experiment with different number of splits.\n",
    "        kf = KFold(n_splits=3, random_state=42, shuffle=False)\n",
    "        for train_index, test_index in kf.split(embeddings_train):\n",
    "            \n",
    "            X_train, X_test = embeddings_train[train_index], embeddings_train[test_index]\n",
    "            y_train, y_test = labels_train[train_index], labels_train[test_index]\n",
    "            \n",
    "            model_filename = self.output_dir + \"/\" + self.experiment_name + \"_fold{}\".format(counter)\n",
    "            checkpoint = ModelCheckpoint(model_filename + '.{epoch:03d}-{val_acc:.4f}.hdf5',\n",
    "                                         monitor='val_acc', verbose=1,\n",
    "                                         save_best_only=True, mode='auto')\n",
    "        \n",
    "            # Start Training\n",
    "            training_history = self.model.fit(X_train, y_train, \n",
    "                                              validation_data = (X_test, y_test),\n",
    "                                              epochs= self.epochs,\n",
    "                                              batch_size=self.batch_size,\n",
    "                                              #Exercise: Add Tensorboard here\n",
    "                                              callbacks=[checkpoint, early_stopping])\n",
    "            \n",
    "            print(\"-----------------------------\\n\")\n",
    "            print(\"KSplit {} training complete\\n\".format(counter))\n",
    "            print(\"-----------------------------\\n\")\n",
    "            \n",
    "            counter += 1\n",
    "            \n",
    "            training_histories.append(training_history)\n",
    "        \n",
    "        return training_histories\n",
    "    \n",
    "    def train_tuned_nn(self, embeddings_train, labels_train, embeddings_test, labels_test):\n",
    "        \n",
    "        \"\"\"\n",
    "        Tuned Feed forward neural network with 1 Dense layer to classify Q&A embeddings.\n",
    "        \n",
    "        Parameters\n",
    "        ----------\n",
    "        embeddings_train: Numpy Array\n",
    "            USE embedding repesentation of the training set.\n",
    "            \n",
    "        labels_train: Numpy Array\n",
    "            Categorical encoded labels for the training set.\n",
    "            \n",
    "        embeddings_test: Numpy Array\n",
    "            USE embedding repesentation of the test set.\n",
    "            \n",
    "        labels_test: Numpy Array\n",
    "            Categorical encoded labels for the test set.\n",
    "            \n",
    "        Returns\n",
    "        -------\n",
    "        Keras history object\n",
    "            See: https://keras.io/callbacks/#history\n",
    "        \n",
    "        \"\"\"\n",
    "        embedding_inputs = Input(shape=(embeddings_train.shape[1],))\n",
    "        x = Dense(128, activation='relu')(embedding_inputs)\n",
    "        # Added dropouts for regularization\n",
    "        # Exercise: Change the value of dropouts.\n",
    "        x = Dropout(0.5)(x)\n",
    "        x = Dense(128, activation='relu')(x)\n",
    "        predictions = Dense(self.class_count, activation='softmax')(x)\n",
    "        \n",
    "        model = Model(inputs=embedding_inputs, outputs=predictions)\n",
    "        model.compile(loss='categorical_crossentropy', optimizer='adam', metrics=['acc'])\n",
    "        \n",
    "        # Keras Callbacks\n",
    "        early_stopping = EarlyStopping(monitor='val_acc', patience=self.patience)\n",
    "        model_filename = self.output_dir + \"/\" + self.experiment_name\n",
    "        checkpoint = ModelCheckpoint(model_filename + '.{epoch:03d}-{val_acc:.4f}.hdf5',\n",
    "                                     monitor='val_acc', verbose=1,\n",
    "                                     save_best_only=True, mode='auto')\n",
    "        \n",
    "        \n",
    "        # Start Training\n",
    "        training_history = model.fit(embeddings_train, labels_train, \n",
    "                                     validation_data = (embeddings_test, labels_test),\n",
    "                                     epochs= self.epochs,\n",
    "                                     batch_size=self.batch_size,\n",
    "                                     #Exercise: Add Tensorboard here\n",
    "                                     callbacks=[checkpoint, early_stopping])\n",
    "        \n",
    "        return training_history"
   ]
  },
  {
   "cell_type": "markdown",
   "metadata": {},
   "source": [
    "##### Train Vanilla Neural Network with Pre-trained USE Embeddings"
   ]
  },
  {
   "cell_type": "code",
   "execution_count": 97,
   "metadata": {
    "scrolled": true
   },
   "outputs": [
    {
     "name": "stdout",
     "output_type": "stream",
     "text": [
      "Train on 5381 samples, validate on 500 samples\n",
      "Epoch 1/100\n",
      "5381/5381 [==============================] - 11s 2ms/step - loss: 1.0667 - acc: 0.7045 - val_loss: 0.5248 - val_acc: 0.8560\n",
      "\n",
      "Epoch 00001: val_acc improved from -inf to 0.85600, saving model to models/USE_Embedding_Model.001-0.8560.hdf5\n",
      "Epoch 2/100\n",
      "5381/5381 [==============================] - 0s 40us/step - loss: 0.5500 - acc: 0.8106 - val_loss: 0.3804 - val_acc: 0.8680\n",
      "\n",
      "Epoch 00002: val_acc improved from 0.85600 to 0.86800, saving model to models/USE_Embedding_Model.002-0.8680.hdf5\n",
      "Epoch 3/100\n",
      "5381/5381 [==============================] - 0s 39us/step - loss: 0.4652 - acc: 0.8318 - val_loss: 0.3585 - val_acc: 0.8700\n",
      "\n",
      "Epoch 00003: val_acc improved from 0.86800 to 0.87000, saving model to models/USE_Embedding_Model.003-0.8700.hdf5\n",
      "Epoch 4/100\n",
      "5381/5381 [==============================] - 0s 39us/step - loss: 0.4277 - acc: 0.8441 - val_loss: 0.3226 - val_acc: 0.8900\n",
      "\n",
      "Epoch 00004: val_acc improved from 0.87000 to 0.89000, saving model to models/USE_Embedding_Model.004-0.8900.hdf5\n",
      "Epoch 5/100\n",
      "5381/5381 [==============================] - 0s 39us/step - loss: 0.4065 - acc: 0.8550 - val_loss: 0.3048 - val_acc: 0.8920\n",
      "\n",
      "Epoch 00005: val_acc improved from 0.89000 to 0.89200, saving model to models/USE_Embedding_Model.005-0.8920.hdf5\n",
      "Epoch 6/100\n",
      "5381/5381 [==============================] - 0s 39us/step - loss: 0.3917 - acc: 0.8556 - val_loss: 0.3269 - val_acc: 0.8860\n",
      "\n",
      "Epoch 00006: val_acc did not improve from 0.89200\n",
      "Epoch 7/100\n",
      "5381/5381 [==============================] - 0s 40us/step - loss: 0.3773 - acc: 0.8614 - val_loss: 0.3039 - val_acc: 0.8880\n",
      "\n",
      "Epoch 00007: val_acc did not improve from 0.89200\n",
      "Epoch 8/100\n",
      "5381/5381 [==============================] - 0s 39us/step - loss: 0.3709 - acc: 0.8640 - val_loss: 0.2895 - val_acc: 0.9020\n",
      "\n",
      "Epoch 00008: val_acc improved from 0.89200 to 0.90200, saving model to models/USE_Embedding_Model.008-0.9020.hdf5\n",
      "Epoch 9/100\n",
      "5381/5381 [==============================] - 0s 40us/step - loss: 0.3589 - acc: 0.8718 - val_loss: 0.2959 - val_acc: 0.8880\n",
      "\n",
      "Epoch 00009: val_acc did not improve from 0.90200\n",
      "Epoch 10/100\n",
      "5381/5381 [==============================] - 0s 40us/step - loss: 0.3492 - acc: 0.8703 - val_loss: 0.2881 - val_acc: 0.8940\n",
      "\n",
      "Epoch 00010: val_acc did not improve from 0.90200\n",
      "Epoch 11/100\n",
      "5381/5381 [==============================] - 0s 40us/step - loss: 0.3347 - acc: 0.8781 - val_loss: 0.2830 - val_acc: 0.8940\n",
      "\n",
      "Epoch 00011: val_acc did not improve from 0.90200\n",
      "Epoch 12/100\n",
      "5381/5381 [==============================] - 0s 40us/step - loss: 0.3290 - acc: 0.8799 - val_loss: 0.2809 - val_acc: 0.8940\n",
      "\n",
      "Epoch 00012: val_acc did not improve from 0.90200\n",
      "Epoch 13/100\n",
      "5381/5381 [==============================] - 0s 40us/step - loss: 0.3168 - acc: 0.8825 - val_loss: 0.2855 - val_acc: 0.8860\n",
      "\n",
      "Epoch 00013: val_acc did not improve from 0.90200\n",
      "Epoch 14/100\n",
      "5381/5381 [==============================] - 0s 40us/step - loss: 0.3137 - acc: 0.8829 - val_loss: 0.2875 - val_acc: 0.8920\n",
      "\n",
      "Epoch 00014: val_acc did not improve from 0.90200\n",
      "Epoch 15/100\n",
      "5381/5381 [==============================] - 0s 39us/step - loss: 0.2983 - acc: 0.8904 - val_loss: 0.2876 - val_acc: 0.8920\n",
      "\n",
      "Epoch 00015: val_acc did not improve from 0.90200\n",
      "Epoch 16/100\n",
      "5381/5381 [==============================] - 0s 39us/step - loss: 0.2932 - acc: 0.8946 - val_loss: 0.2713 - val_acc: 0.9000\n",
      "\n",
      "Epoch 00016: val_acc did not improve from 0.90200\n",
      "Epoch 17/100\n",
      "5381/5381 [==============================] - 0s 40us/step - loss: 0.2843 - acc: 0.8967 - val_loss: 0.2796 - val_acc: 0.8900\n",
      "\n",
      "Epoch 00017: val_acc did not improve from 0.90200\n",
      "Epoch 18/100\n",
      "5381/5381 [==============================] - 0s 39us/step - loss: 0.2755 - acc: 0.8989 - val_loss: 0.2781 - val_acc: 0.8920\n",
      "\n",
      "Epoch 00018: val_acc did not improve from 0.90200\n"
     ]
    }
   ],
   "source": [
    "# Train Vanilla Neural Network with Pre-trained USE Embeddings\n",
    "use_embedding_classifier = QNAClassifier(\"USE_Embedding_Model\")\n",
    "use_embedding_training_history = use_embedding_classifier.train_vanilla_nn(question_embeddings_train, labels_train_categorical,\n",
    "                                                                          question_embeddings_test, labels_test_categorical)"
   ]
  },
  {
   "cell_type": "markdown",
   "metadata": {},
   "source": [
    "##### Plot training history of above Vanilla Neural Network with Pre-trained USE Embeddings"
   ]
  },
  {
   "cell_type": "code",
   "execution_count": 98,
   "metadata": {},
   "outputs": [
    {
     "data": {
      "image/png": "[encoded data removed]",
      "text/plain": [
       "<Figure size 432x288 with 1 Axes>"
      ]
     },
     "metadata": {},
     "output_type": "display_data"
    },
    {
     "data": {
      "image/png": "[encoded data removed]",
      "text/plain": [
       "<Figure size 432x288 with 1 Axes>"
      ]
     },
     "metadata": {},
     "output_type": "display_data"
    }
   ],
   "source": [
    "plot_training_history(use_embedding_training_history)"
   ]
  },
  {
   "cell_type": "markdown",
   "metadata": {},
   "source": [
    "##### Train Cross Validated Vanilla Neural Network with Pre-trained USE Embeddings"
   ]
  },
  {
   "cell_type": "code",
   "execution_count": 99,
   "metadata": {},
   "outputs": [
    {
     "name": "stdout",
     "output_type": "stream",
     "text": [
      "Train on 3587 samples, validate on 1794 samples\n",
      "Epoch 1/100\n",
      "3587/3587 [==============================] - 11s 3ms/step - loss: 1.3899 - acc: 0.5980 - val_loss: 1.0858 - val_acc: 0.7179\n",
      "\n",
      "Epoch 00001: val_acc improved from -inf to 0.71795, saving model to models/USE_Embedding_CV_Model_fold0.001-0.7179.hdf5\n",
      "Epoch 2/100\n",
      "3587/3587 [==============================] - 0s 31us/step - loss: 0.9106 - acc: 0.7628 - val_loss: 0.7892 - val_acc: 0.7670\n",
      "\n",
      "Epoch 00002: val_acc improved from 0.71795 to 0.76700, saving model to models/USE_Embedding_CV_Model_fold0.002-0.7670.hdf5\n",
      "Epoch 3/100\n",
      "3587/3587 [==============================] - 0s 30us/step - loss: 0.6956 - acc: 0.7937 - val_loss: 0.6555 - val_acc: 0.7893\n",
      "\n",
      "Epoch 00003: val_acc improved from 0.76700 to 0.78930, saving model to models/USE_Embedding_CV_Model_fold0.003-0.7893.hdf5\n",
      "Epoch 4/100\n",
      "3587/3587 [==============================] - 0s 30us/step - loss: 0.5867 - acc: 0.8127 - val_loss: 0.5802 - val_acc: 0.8016\n",
      "\n",
      "Epoch 00004: val_acc improved from 0.78930 to 0.80156, saving model to models/USE_Embedding_CV_Model_fold0.004-0.8016.hdf5\n",
      "Epoch 5/100\n",
      "3587/3587 [==============================] - 0s 31us/step - loss: 0.5235 - acc: 0.8227 - val_loss: 0.5481 - val_acc: 0.8038\n",
      "\n",
      "Epoch 00005: val_acc improved from 0.80156 to 0.80379, saving model to models/USE_Embedding_CV_Model_fold0.005-0.8038.hdf5\n",
      "Epoch 6/100\n",
      "3587/3587 [==============================] - 0s 30us/step - loss: 0.4826 - acc: 0.8285 - val_loss: 0.5164 - val_acc: 0.8144\n",
      "\n",
      "Epoch 00006: val_acc improved from 0.80379 to 0.81438, saving model to models/USE_Embedding_CV_Model_fold0.006-0.8144.hdf5\n",
      "Epoch 7/100\n",
      "3587/3587 [==============================] - 0s 30us/step - loss: 0.4551 - acc: 0.8355 - val_loss: 0.5046 - val_acc: 0.8183\n",
      "\n",
      "Epoch 00007: val_acc improved from 0.81438 to 0.81828, saving model to models/USE_Embedding_CV_Model_fold0.007-0.8183.hdf5\n",
      "Epoch 8/100\n",
      "3587/3587 [==============================] - 0s 31us/step - loss: 0.4349 - acc: 0.8436 - val_loss: 0.4923 - val_acc: 0.8177\n",
      "\n",
      "Epoch 00008: val_acc did not improve from 0.81828\n",
      "Epoch 9/100\n",
      "3587/3587 [==============================] - 0s 30us/step - loss: 0.4173 - acc: 0.8514 - val_loss: 0.4843 - val_acc: 0.8222\n",
      "\n",
      "Epoch 00009: val_acc improved from 0.81828 to 0.82219, saving model to models/USE_Embedding_CV_Model_fold0.009-0.8222.hdf5\n",
      "Epoch 10/100\n",
      "3587/3587 [==============================] - 0s 31us/step - loss: 0.4057 - acc: 0.8589 - val_loss: 0.4796 - val_acc: 0.8266\n",
      "\n",
      "Epoch 00010: val_acc improved from 0.82219 to 0.82664, saving model to models/USE_Embedding_CV_Model_fold0.010-0.8266.hdf5\n",
      "Epoch 11/100\n",
      "3587/3587 [==============================] - 0s 30us/step - loss: 0.3960 - acc: 0.8589 - val_loss: 0.4746 - val_acc: 0.8255\n",
      "\n",
      "Epoch 00011: val_acc did not improve from 0.82664\n",
      "Epoch 12/100\n",
      "3587/3587 [==============================] - 0s 30us/step - loss: 0.3874 - acc: 0.8609 - val_loss: 0.4799 - val_acc: 0.8227\n",
      "\n",
      "Epoch 00012: val_acc did not improve from 0.82664\n",
      "Epoch 13/100\n",
      "3587/3587 [==============================] - 0s 29us/step - loss: 0.3799 - acc: 0.8634 - val_loss: 0.4692 - val_acc: 0.8250\n",
      "\n",
      "Epoch 00013: val_acc did not improve from 0.82664\n",
      "Epoch 14/100\n",
      "3587/3587 [==============================] - 0s 30us/step - loss: 0.3731 - acc: 0.8676 - val_loss: 0.4712 - val_acc: 0.8272\n",
      "\n",
      "Epoch 00014: val_acc improved from 0.82664 to 0.82720, saving model to models/USE_Embedding_CV_Model_fold0.014-0.8272.hdf5\n",
      "Epoch 15/100\n",
      "3587/3587 [==============================] - 0s 31us/step - loss: 0.3658 - acc: 0.8662 - val_loss: 0.4818 - val_acc: 0.8233\n",
      "\n",
      "Epoch 00015: val_acc did not improve from 0.82720\n",
      "Epoch 16/100\n",
      "3587/3587 [==============================] - 0s 31us/step - loss: 0.3614 - acc: 0.8679 - val_loss: 0.4711 - val_acc: 0.8294\n",
      "\n",
      "Epoch 00016: val_acc improved from 0.82720 to 0.82943, saving model to models/USE_Embedding_CV_Model_fold0.016-0.8294.hdf5\n",
      "Epoch 17/100\n",
      "3587/3587 [==============================] - 0s 31us/step - loss: 0.3553 - acc: 0.8698 - val_loss: 0.4705 - val_acc: 0.8278\n",
      "\n",
      "Epoch 00017: val_acc did not improve from 0.82943\n",
      "Epoch 18/100\n",
      "3587/3587 [==============================] - 0s 31us/step - loss: 0.3515 - acc: 0.8734 - val_loss: 0.4724 - val_acc: 0.8272\n",
      "\n",
      "Epoch 00018: val_acc did not improve from 0.82943\n",
      "Epoch 19/100\n",
      "3587/3587 [==============================] - 0s 31us/step - loss: 0.3467 - acc: 0.8720 - val_loss: 0.4714 - val_acc: 0.8272\n",
      "\n",
      "Epoch 00019: val_acc did not improve from 0.82943\n",
      "Epoch 20/100\n",
      "3587/3587 [==============================] - 0s 31us/step - loss: 0.3432 - acc: 0.8762 - val_loss: 0.4676 - val_acc: 0.8261\n",
      "\n",
      "Epoch 00020: val_acc did not improve from 0.82943\n",
      "Epoch 21/100\n",
      "3587/3587 [==============================] - 0s 31us/step - loss: 0.3383 - acc: 0.8754 - val_loss: 0.4787 - val_acc: 0.8239\n",
      "\n",
      "Epoch 00021: val_acc did not improve from 0.82943\n",
      "Epoch 22/100\n",
      "3587/3587 [==============================] - 0s 31us/step - loss: 0.3347 - acc: 0.8790 - val_loss: 0.4764 - val_acc: 0.8244\n",
      "\n",
      "Epoch 00022: val_acc did not improve from 0.82943\n",
      "Epoch 23/100\n",
      "3587/3587 [==============================] - 0s 31us/step - loss: 0.3305 - acc: 0.8826 - val_loss: 0.4711 - val_acc: 0.8305\n",
      "\n",
      "Epoch 00023: val_acc improved from 0.82943 to 0.83055, saving model to models/USE_Embedding_CV_Model_fold0.023-0.8305.hdf5\n",
      "Epoch 24/100\n",
      "3587/3587 [==============================] - 0s 31us/step - loss: 0.3279 - acc: 0.8784 - val_loss: 0.4698 - val_acc: 0.8272\n",
      "\n",
      "Epoch 00024: val_acc did not improve from 0.83055\n",
      "Epoch 25/100\n",
      "3587/3587 [==============================] - 0s 31us/step - loss: 0.3230 - acc: 0.8801 - val_loss: 0.4696 - val_acc: 0.8283\n",
      "\n",
      "Epoch 00025: val_acc did not improve from 0.83055\n",
      "Epoch 26/100\n",
      "3587/3587 [==============================] - 0s 31us/step - loss: 0.3203 - acc: 0.8807 - val_loss: 0.4715 - val_acc: 0.8278\n",
      "\n",
      "Epoch 00026: val_acc did not improve from 0.83055\n",
      "Epoch 27/100\n",
      "3587/3587 [==============================] - 0s 32us/step - loss: 0.3172 - acc: 0.8849 - val_loss: 0.4765 - val_acc: 0.8272\n",
      "\n",
      "Epoch 00027: val_acc did not improve from 0.83055\n",
      "Epoch 28/100\n",
      "3587/3587 [==============================] - 0s 32us/step - loss: 0.3146 - acc: 0.8829 - val_loss: 0.4693 - val_acc: 0.8289\n",
      "\n",
      "Epoch 00028: val_acc did not improve from 0.83055\n",
      "Epoch 29/100\n",
      "3587/3587 [==============================] - 0s 32us/step - loss: 0.3116 - acc: 0.8868 - val_loss: 0.4763 - val_acc: 0.8244\n",
      "\n",
      "Epoch 00029: val_acc did not improve from 0.83055\n",
      "Epoch 30/100\n",
      "3587/3587 [==============================] - 0s 32us/step - loss: 0.3069 - acc: 0.8857 - val_loss: 0.4761 - val_acc: 0.8278\n",
      "\n",
      "Epoch 00030: val_acc did not improve from 0.83055\n",
      "Epoch 31/100\n",
      "3587/3587 [==============================] - 0s 32us/step - loss: 0.3035 - acc: 0.8868 - val_loss: 0.4839 - val_acc: 0.8244\n",
      "\n",
      "Epoch 00031: val_acc did not improve from 0.83055\n",
      "Epoch 32/100\n",
      "3587/3587 [==============================] - 0s 31us/step - loss: 0.3006 - acc: 0.8874 - val_loss: 0.4722 - val_acc: 0.8272\n",
      "\n",
      "Epoch 00032: val_acc did not improve from 0.83055\n",
      "Epoch 33/100\n",
      "3587/3587 [==============================] - 0s 30us/step - loss: 0.2984 - acc: 0.8921 - val_loss: 0.4804 - val_acc: 0.8300\n",
      "\n",
      "Epoch 00033: val_acc did not improve from 0.83055\n",
      "-----------------------------\n",
      "\n",
      "KSplit 0 training complete\n",
      "\n",
      "-----------------------------\n",
      "\n",
      "Train on 3587 samples, validate on 1794 samples\n",
      "Epoch 1/100\n",
      "3587/3587 [==============================] - 0s 30us/step - loss: 0.3762 - acc: 0.8651 - val_loss: 0.3129 - val_acc: 0.8846\n",
      "\n",
      "Epoch 00001: val_acc improved from -inf to 0.88462, saving model to models/USE_Embedding_CV_Model_fold1.001-0.8846.hdf5\n",
      "Epoch 2/100\n",
      "3587/3587 [==============================] - 0s 29us/step - loss: 0.3609 - acc: 0.8693 - val_loss: 0.3110 - val_acc: 0.8919\n",
      "\n",
      "Epoch 00002: val_acc improved from 0.88462 to 0.89186, saving model to models/USE_Embedding_CV_Model_fold1.002-0.8919.hdf5\n",
      "Epoch 3/100\n",
      "3587/3587 [==============================] - 0s 30us/step - loss: 0.3530 - acc: 0.8695 - val_loss: 0.3177 - val_acc: 0.8885\n",
      "\n",
      "Epoch 00003: val_acc did not improve from 0.89186\n",
      "Epoch 4/100\n",
      "3587/3587 [==============================] - 0s 30us/step - loss: 0.3466 - acc: 0.8740 - val_loss: 0.3248 - val_acc: 0.8868\n",
      "\n",
      "Epoch 00004: val_acc did not improve from 0.89186\n",
      "Epoch 5/100\n"
     ]
    },
    {
     "name": "stdout",
     "output_type": "stream",
     "text": [
      "3587/3587 [==============================] - 0s 31us/step - loss: 0.3396 - acc: 0.8729 - val_loss: 0.3323 - val_acc: 0.8835\n",
      "\n",
      "Epoch 00005: val_acc did not improve from 0.89186\n",
      "Epoch 6/100\n",
      "3587/3587 [==============================] - 0s 31us/step - loss: 0.3317 - acc: 0.8796 - val_loss: 0.3346 - val_acc: 0.8807\n",
      "\n",
      "Epoch 00006: val_acc did not improve from 0.89186\n",
      "Epoch 7/100\n",
      "3587/3587 [==============================] - 0s 30us/step - loss: 0.3283 - acc: 0.8768 - val_loss: 0.3390 - val_acc: 0.8807\n",
      "\n",
      "Epoch 00007: val_acc did not improve from 0.89186\n",
      "Epoch 8/100\n",
      "3587/3587 [==============================] - 0s 30us/step - loss: 0.3235 - acc: 0.8826 - val_loss: 0.3476 - val_acc: 0.8763\n",
      "\n",
      "Epoch 00008: val_acc did not improve from 0.89186\n",
      "Epoch 9/100\n",
      "3587/3587 [==============================] - 0s 29us/step - loss: 0.3194 - acc: 0.8812 - val_loss: 0.3519 - val_acc: 0.8746\n",
      "\n",
      "Epoch 00009: val_acc did not improve from 0.89186\n",
      "Epoch 10/100\n",
      "3587/3587 [==============================] - 0s 30us/step - loss: 0.3155 - acc: 0.8846 - val_loss: 0.3471 - val_acc: 0.8807\n",
      "\n",
      "Epoch 00010: val_acc did not improve from 0.89186\n",
      "Epoch 11/100\n",
      "3587/3587 [==============================] - 0s 31us/step - loss: 0.3111 - acc: 0.8876 - val_loss: 0.3512 - val_acc: 0.8779\n",
      "\n",
      "Epoch 00011: val_acc did not improve from 0.89186\n",
      "Epoch 12/100\n",
      "3587/3587 [==============================] - 0s 30us/step - loss: 0.3079 - acc: 0.8890 - val_loss: 0.3541 - val_acc: 0.8757\n",
      "\n",
      "Epoch 00012: val_acc did not improve from 0.89186\n",
      "-----------------------------\n",
      "\n",
      "KSplit 1 training complete\n",
      "\n",
      "-----------------------------\n",
      "\n",
      "Train on 3588 samples, validate on 1793 samples\n",
      "Epoch 1/100\n",
      "3588/3588 [==============================] - 0s 30us/step - loss: 0.3488 - acc: 0.8740 - val_loss: 0.2643 - val_acc: 0.9046\n",
      "\n",
      "Epoch 00001: val_acc improved from -inf to 0.90463, saving model to models/USE_Embedding_CV_Model_fold2.001-0.9046.hdf5\n",
      "Epoch 2/100\n",
      "3588/3588 [==============================] - 0s 31us/step - loss: 0.3382 - acc: 0.8763 - val_loss: 0.2714 - val_acc: 0.9046\n",
      "\n",
      "Epoch 00002: val_acc did not improve from 0.90463\n",
      "Epoch 3/100\n",
      "3588/3588 [==============================] - 0s 32us/step - loss: 0.3285 - acc: 0.8776 - val_loss: 0.2769 - val_acc: 0.8974\n",
      "\n",
      "Epoch 00003: val_acc did not improve from 0.90463\n",
      "Epoch 4/100\n",
      "3588/3588 [==============================] - 0s 32us/step - loss: 0.3220 - acc: 0.8838 - val_loss: 0.2791 - val_acc: 0.8996\n",
      "\n",
      "Epoch 00004: val_acc did not improve from 0.90463\n",
      "Epoch 5/100\n",
      "3588/3588 [==============================] - 0s 31us/step - loss: 0.3153 - acc: 0.8829 - val_loss: 0.2794 - val_acc: 0.8991\n",
      "\n",
      "Epoch 00005: val_acc did not improve from 0.90463\n",
      "Epoch 6/100\n",
      "3588/3588 [==============================] - 0s 32us/step - loss: 0.3109 - acc: 0.8877 - val_loss: 0.2891 - val_acc: 0.8912\n",
      "\n",
      "Epoch 00006: val_acc did not improve from 0.90463\n",
      "Epoch 7/100\n",
      "3588/3588 [==============================] - 0s 32us/step - loss: 0.3068 - acc: 0.8874 - val_loss: 0.2969 - val_acc: 0.8940\n",
      "\n",
      "Epoch 00007: val_acc did not improve from 0.90463\n",
      "Epoch 8/100\n",
      "3588/3588 [==============================] - 0s 31us/step - loss: 0.3008 - acc: 0.8880 - val_loss: 0.2960 - val_acc: 0.8901\n",
      "\n",
      "Epoch 00008: val_acc did not improve from 0.90463\n",
      "Epoch 9/100\n",
      "3588/3588 [==============================] - 0s 31us/step - loss: 0.2981 - acc: 0.8905 - val_loss: 0.3005 - val_acc: 0.8868\n",
      "\n",
      "Epoch 00009: val_acc did not improve from 0.90463\n",
      "Epoch 10/100\n",
      "3588/3588 [==============================] - 0s 31us/step - loss: 0.2938 - acc: 0.8919 - val_loss: 0.3041 - val_acc: 0.8857\n",
      "\n",
      "Epoch 00010: val_acc did not improve from 0.90463\n",
      "Epoch 11/100\n",
      "3588/3588 [==============================] - 0s 31us/step - loss: 0.2913 - acc: 0.8958 - val_loss: 0.3004 - val_acc: 0.8868\n",
      "\n",
      "Epoch 00011: val_acc did not improve from 0.90463\n",
      "-----------------------------\n",
      "\n",
      "KSplit 2 training complete\n",
      "\n",
      "-----------------------------\n",
      "\n"
     ]
    }
   ],
   "source": [
    "# Train Cross Validated Vanilla Neural Network with Pre-trained USE Embeddings\n",
    "use_embedding_classifier = QNAClassifier(\"USE_Embedding_CV_Model\")\n",
    "use_embedding_training_history = use_embedding_classifier.train_vanilla_nn_cross_validated(question_embeddings_train, labels_train_categorical,\n",
    "                                                                                           question_embeddings_test, labels_test_categorical)"
   ]
  },
  {
   "cell_type": "markdown",
   "metadata": {},
   "source": [
    "##### Train Tuned Neural Network with Pre-trained USE Embeddings"
   ]
  },
  {
   "cell_type": "code",
   "execution_count": 100,
   "metadata": {
    "scrolled": true
   },
   "outputs": [
    {
     "name": "stdout",
     "output_type": "stream",
     "text": [
      "Train on 5381 samples, validate on 500 samples\n",
      "Epoch 1/100\n",
      "5381/5381 [==============================] - 12s 2ms/step - loss: 1.1910 - acc: 0.5774 - val_loss: 0.4969 - val_acc: 0.8540\n",
      "\n",
      "Epoch 00001: val_acc improved from -inf to 0.85400, saving model to models/USE_Embedding_Tuned_Model.001-0.8540.hdf5\n",
      "Epoch 2/100\n",
      "5381/5381 [==============================] - 0s 37us/step - loss: 0.6157 - acc: 0.7837 - val_loss: 0.4012 - val_acc: 0.8700\n",
      "\n",
      "Epoch 00002: val_acc improved from 0.85400 to 0.87000, saving model to models/USE_Embedding_Tuned_Model.002-0.8700.hdf5\n",
      "Epoch 3/100\n",
      "5381/5381 [==============================] - 0s 37us/step - loss: 0.5278 - acc: 0.8160 - val_loss: 0.3442 - val_acc: 0.8740\n",
      "\n",
      "Epoch 00003: val_acc improved from 0.87000 to 0.87400, saving model to models/USE_Embedding_Tuned_Model.003-0.8740.hdf5\n",
      "Epoch 4/100\n",
      "5381/5381 [==============================] - 0s 37us/step - loss: 0.4952 - acc: 0.8175 - val_loss: 0.3164 - val_acc: 0.8840\n",
      "\n",
      "Epoch 00004: val_acc improved from 0.87400 to 0.88400, saving model to models/USE_Embedding_Tuned_Model.004-0.8840.hdf5\n",
      "Epoch 5/100\n",
      "5381/5381 [==============================] - 0s 38us/step - loss: 0.4490 - acc: 0.8359 - val_loss: 0.3314 - val_acc: 0.8820\n",
      "\n",
      "Epoch 00005: val_acc did not improve from 0.88400\n",
      "Epoch 6/100\n",
      "5381/5381 [==============================] - 0s 38us/step - loss: 0.4400 - acc: 0.8428 - val_loss: 0.3028 - val_acc: 0.8980\n",
      "\n",
      "Epoch 00006: val_acc improved from 0.88400 to 0.89800, saving model to models/USE_Embedding_Tuned_Model.006-0.8980.hdf5\n",
      "Epoch 7/100\n",
      "5381/5381 [==============================] - 0s 38us/step - loss: 0.4225 - acc: 0.8536 - val_loss: 0.2978 - val_acc: 0.8960\n",
      "\n",
      "Epoch 00007: val_acc did not improve from 0.89800\n",
      "Epoch 8/100\n",
      "5381/5381 [==============================] - 0s 39us/step - loss: 0.4015 - acc: 0.8547 - val_loss: 0.3014 - val_acc: 0.8980\n",
      "\n",
      "Epoch 00008: val_acc did not improve from 0.89800\n",
      "Epoch 9/100\n",
      "5381/5381 [==============================] - 0s 39us/step - loss: 0.3944 - acc: 0.8589 - val_loss: 0.2845 - val_acc: 0.9040\n",
      "\n",
      "Epoch 00009: val_acc improved from 0.89800 to 0.90400, saving model to models/USE_Embedding_Tuned_Model.009-0.9040.hdf5\n",
      "Epoch 10/100\n",
      "5381/5381 [==============================] - 0s 39us/step - loss: 0.3783 - acc: 0.8647 - val_loss: 0.2827 - val_acc: 0.8940\n",
      "\n",
      "Epoch 00010: val_acc did not improve from 0.90400\n",
      "Epoch 11/100\n",
      "5381/5381 [==============================] - 0s 39us/step - loss: 0.3639 - acc: 0.8664 - val_loss: 0.2982 - val_acc: 0.8900\n",
      "\n",
      "Epoch 00011: val_acc did not improve from 0.90400\n",
      "Epoch 12/100\n",
      "5381/5381 [==============================] - 0s 39us/step - loss: 0.3472 - acc: 0.8734 - val_loss: 0.2800 - val_acc: 0.8980\n",
      "\n",
      "Epoch 00012: val_acc did not improve from 0.90400\n",
      "Epoch 13/100\n",
      "5381/5381 [==============================] - 0s 39us/step - loss: 0.3335 - acc: 0.8757 - val_loss: 0.2874 - val_acc: 0.8900\n",
      "\n",
      "Epoch 00013: val_acc did not improve from 0.90400\n",
      "Epoch 14/100\n",
      "5381/5381 [==============================] - 0s 40us/step - loss: 0.3200 - acc: 0.8842 - val_loss: 0.2875 - val_acc: 0.8860\n",
      "\n",
      "Epoch 00014: val_acc did not improve from 0.90400\n",
      "Epoch 15/100\n",
      "5381/5381 [==============================] - 0s 40us/step - loss: 0.3233 - acc: 0.8805 - val_loss: 0.2707 - val_acc: 0.9080\n",
      "\n",
      "Epoch 00015: val_acc improved from 0.90400 to 0.90800, saving model to models/USE_Embedding_Tuned_Model.015-0.9080.hdf5\n",
      "Epoch 16/100\n",
      "5381/5381 [==============================] - 0s 40us/step - loss: 0.3036 - acc: 0.8889 - val_loss: 0.2789 - val_acc: 0.8980\n",
      "\n",
      "Epoch 00016: val_acc did not improve from 0.90800\n",
      "Epoch 17/100\n",
      "5381/5381 [==============================] - 0s 40us/step - loss: 0.2970 - acc: 0.8844 - val_loss: 0.2749 - val_acc: 0.8960\n",
      "\n",
      "Epoch 00017: val_acc did not improve from 0.90800\n",
      "Epoch 18/100\n",
      "5381/5381 [==============================] - 0s 40us/step - loss: 0.2922 - acc: 0.8920 - val_loss: 0.2686 - val_acc: 0.9040\n",
      "\n",
      "Epoch 00018: val_acc did not improve from 0.90800\n",
      "Epoch 19/100\n",
      "5381/5381 [==============================] - 0s 39us/step - loss: 0.2756 - acc: 0.9019 - val_loss: 0.2763 - val_acc: 0.8900\n",
      "\n",
      "Epoch 00019: val_acc did not improve from 0.90800\n",
      "Epoch 20/100\n",
      "5381/5381 [==============================] - 0s 40us/step - loss: 0.2703 - acc: 0.9009 - val_loss: 0.2843 - val_acc: 0.8980\n",
      "\n",
      "Epoch 00020: val_acc did not improve from 0.90800\n",
      "Epoch 21/100\n",
      "5381/5381 [==============================] - 0s 40us/step - loss: 0.2598 - acc: 0.9056 - val_loss: 0.2624 - val_acc: 0.9120\n",
      "\n",
      "Epoch 00021: val_acc improved from 0.90800 to 0.91200, saving model to models/USE_Embedding_Tuned_Model.021-0.9120.hdf5\n",
      "Epoch 22/100\n",
      "5381/5381 [==============================] - 0s 39us/step - loss: 0.2514 - acc: 0.9097 - val_loss: 0.2686 - val_acc: 0.9040\n",
      "\n",
      "Epoch 00022: val_acc did not improve from 0.91200\n",
      "Epoch 23/100\n",
      "5381/5381 [==============================] - 0s 40us/step - loss: 0.2410 - acc: 0.9149 - val_loss: 0.2729 - val_acc: 0.9100\n",
      "\n",
      "Epoch 00023: val_acc did not improve from 0.91200\n",
      "Epoch 24/100\n",
      "5381/5381 [==============================] - 0s 39us/step - loss: 0.2250 - acc: 0.9160 - val_loss: 0.2720 - val_acc: 0.8980\n",
      "\n",
      "Epoch 00024: val_acc did not improve from 0.91200\n",
      "Epoch 25/100\n",
      "5381/5381 [==============================] - 0s 39us/step - loss: 0.2218 - acc: 0.9167 - val_loss: 0.2786 - val_acc: 0.9000\n",
      "\n",
      "Epoch 00025: val_acc did not improve from 0.91200\n",
      "Epoch 26/100\n",
      "5381/5381 [==============================] - 0s 39us/step - loss: 0.2193 - acc: 0.9205 - val_loss: 0.2900 - val_acc: 0.9020\n",
      "\n",
      "Epoch 00026: val_acc did not improve from 0.91200\n",
      "Epoch 27/100\n",
      "5381/5381 [==============================] - 0s 39us/step - loss: 0.2027 - acc: 0.9299 - val_loss: 0.2812 - val_acc: 0.9040\n",
      "\n",
      "Epoch 00027: val_acc did not improve from 0.91200\n",
      "Epoch 28/100\n",
      "5381/5381 [==============================] - 0s 40us/step - loss: 0.1982 - acc: 0.9283 - val_loss: 0.2737 - val_acc: 0.9040\n",
      "\n",
      "Epoch 00028: val_acc did not improve from 0.91200\n",
      "Epoch 29/100\n",
      "5381/5381 [==============================] - 0s 39us/step - loss: 0.2081 - acc: 0.9195 - val_loss: 0.2849 - val_acc: 0.9100\n",
      "\n",
      "Epoch 00029: val_acc did not improve from 0.91200\n",
      "Epoch 30/100\n",
      "5381/5381 [==============================] - 0s 39us/step - loss: 0.1964 - acc: 0.9262 - val_loss: 0.2669 - val_acc: 0.9020\n",
      "\n",
      "Epoch 00030: val_acc did not improve from 0.91200\n",
      "Epoch 31/100\n",
      "5381/5381 [==============================] - 0s 40us/step - loss: 0.1858 - acc: 0.9325 - val_loss: 0.2831 - val_acc: 0.9100\n",
      "\n",
      "Epoch 00031: val_acc did not improve from 0.91200\n"
     ]
    }
   ],
   "source": [
    "# Train Tuned Neural Network with Pre-trained USE Embeddings\n",
    "use_embedding_tuned_classifier = QNAClassifier(\"USE_Embedding_Tuned_Model\")\n",
    "use_embedding_tuned_training_history = use_embedding_tuned_classifier.train_tuned_nn(question_embeddings_train, labels_train_categorical,\n",
    "                                                                          question_embeddings_test, labels_test_categorical)"
   ]
  },
  {
   "cell_type": "markdown",
   "metadata": {},
   "source": [
    "##### Plot training history of above Tuned Neural Network with Pre-trained USE Embeddings"
   ]
  },
  {
   "cell_type": "code",
   "execution_count": 101,
   "metadata": {},
   "outputs": [
    {
     "data": {
      "image/png": "[encoded data removed]",
      "text/plain": [
       "<Figure size 432x288 with 1 Axes>"
      ]
     },
     "metadata": {},
     "output_type": "display_data"
    },
    {
     "data": {
      "image/png": "[encoded data removed]",
      "text/plain": [
       "<Figure size 432x288 with 1 Axes>"
      ]
     },
     "metadata": {},
     "output_type": "display_data"
    }
   ],
   "source": [
    "plot_training_history(use_embedding_tuned_training_history)"
   ]
  },
  {
   "cell_type": "markdown",
   "metadata": {},
   "source": [
    "##### Plot the test classification metrics for the above Tuned Neural Network with Pre-trained USE Embeddings"
   ]
  },
  {
   "cell_type": "code",
   "execution_count": 102,
   "metadata": {},
   "outputs": [
    {
     "name": "stdout",
     "output_type": "stream",
     "text": [
      "              precision    recall  f1-score   support\n",
      "\n",
      "        ABBR       1.00      0.89      0.94         9\n",
      "        DESC       0.91      0.91      0.91       138\n",
      "        ENTY       0.83      0.82      0.82        94\n",
      "         HUM       0.94      0.97      0.95        65\n",
      "         LOC       0.97      0.90      0.94        81\n",
      "         NUM       0.93      0.97      0.95       113\n",
      "\n",
      "    accuracy                           0.91       500\n",
      "   macro avg       0.93      0.91      0.92       500\n",
      "weighted avg       0.91      0.91      0.91       500\n",
      "\n"
     ]
    }
   ],
   "source": [
    "# Note: Please use the appropriate model path corresponding to your training step.\n",
    "print(generate_classification_report(model_path = 'models/USE_Embedding_Tuned_Model.011-0.9140.hdf5', \n",
    "                                     label_encoder = label_encoder,\n",
    "                                     test_features = question_embeddings_test,\n",
    "                                     test_labels = labels_test))"
   ]
  },
  {
   "cell_type": "markdown",
   "metadata": {},
   "source": [
    "***"
   ]
  },
  {
   "cell_type": "markdown",
   "metadata": {},
   "source": [
    "## BERT: Bidirectional Encoder Representation from Transformers \n",
    "<u>Refrence Paper</u>: https://arxiv.org/abs/1810.04805<br>\n",
    "<u>Announcement</u>: https://ai.googleblog.com/2018/11/open-sourcing-bert-state-of-art-pre.html\n",
    "\n",
    "**BERT** is the current state of the art Language Model and is designed by pre-training deep bidirectional representations from unlabeled(Wikipedia)text by jointly conditioning on both left and right context in all layers.\n",
    "BERT’s model architecture is a multi-layer/stacked set of bidirectional Transformers with the following 2 variants:\n",
    "**BERTBASE** (L=12, H=768, A=12, Total Parameters=110M) and **BERTLARGE** (L=24, H=1024, A=16, Total Parameters=340M).\n",
    "\n",
    "![dep_nobj-1](images/BERT.png)"
   ]
  },
  {
   "cell_type": "markdown",
   "metadata": {},
   "source": [
    "\n",
    "<h3>Data Prep for BERT Q&A classification</h3>\n",
    "\n",
    "Since BERT is a pre-trained Langauage Model, fine-tuning tasks using BERT is expected to have the same input format of data as that of BERT's training. In a nutshell, we'll have to apply the following transformations to our input text to conform to BERT's fine tuning input expectation.\n",
    "    \n",
    "- Lowercase our text (if we're using a BERT lowercase model)<br>\n",
    "- Tokenize it (i.e. \"sally says hi\" -> [\"sally\", \"says\", \"hi\"])<br>\n",
    "- Break words into WordPieces (i.e. \"calling\" -> [\"call\", \"##ing\"])<br>\n",
    "- Map our words to indexes using a vocab file that BERT provides<br>\n",
    "- Add special \"CLS\" and \"SEP\" tokens for NextSentenceIdentication (see the Section 3 https://arxiv.org/pdf/1810.04805.pdf)<br>\n",
    "- Append \"index\" and \"segment\" tokens to each input (see the Section 3 https://arxiv.org/pdf/1810.04805.pdf)<br>\n"
   ]
  },
  {
   "cell_type": "code",
   "execution_count": 103,
   "metadata": {},
   "outputs": [],
   "source": [
    "#BERT Imports: BERT Classification\n",
    "import bert\n",
    "from bert import run_classifier\n",
    "from bert import optimization\n",
    "from bert import tokenization"
   ]
  },
  {
   "cell_type": "markdown",
   "metadata": {},
   "source": [
    "##### Fortunately, there are multiple libraries that'll trannsform our raw Question text to a format that BERT understands\n",
    "**bert.run_classifier.InputExample** is a data structure that will store the tranformed Quesstion text into BERT Input format. The below lambda section is only initializing these BERT Input format data structures."
   ]
  },
  {
   "cell_type": "code",
   "execution_count": 104,
   "metadata": {},
   "outputs": [],
   "source": [
    "train_InputSamples = list(map(lambda x,y: bert.run_classifier.InputExample(guid=None, text_a=x, text_b=None, label=y),\n",
    "                              features_train, labels_train))\n",
    "test_InputSamples = list(map(lambda x,y: bert.run_classifier.InputExample(guid=None, text_a=x, text_b=None, label=y),\n",
    "                              features_test, labels_test))"
   ]
  },
  {
   "cell_type": "markdown",
   "metadata": {},
   "source": [
    "##### Download the pre-trained BERT base model and load up the BERT tokenizers to operate on our transformed Question text"
   ]
  },
  {
   "cell_type": "code",
   "execution_count": 105,
   "metadata": {},
   "outputs": [
    {
     "name": "stderr",
     "output_type": "stream",
     "text": [
      "I1020 23:58:37.155352 139704171878208 saver.py:1499] Saver not created because there are no variables in the graph to restore\n"
     ]
    }
   ],
   "source": [
    "BERT_MODEL_HUB = \"https://tfhub.dev/google/bert_uncased_L-12_H-768_A-12/1\"\n",
    "tf.logging.set_verbosity(tf.logging.INFO)\n",
    "\n",
    "def create_tokenizer_from_hub_module():\n",
    "    \"\"\"\n",
    "    Load the pre-trained BERT model and extract the vocab file and tokenizer from TF HUB\n",
    "\n",
    "    Returns\n",
    "    -------\n",
    "    BERT tokenizer object: bert.tokenization.FullTokenizer\n",
    "        See: https://github.com/google-research/bert/blob/master/tokenization.py\n",
    "        \n",
    "    \"\"\"\n",
    "\n",
    "    with tf.Graph().as_default():\n",
    "        bert_module = hub.Module(BERT_MODEL_HUB)\n",
    "        tokenization_info = bert_module(signature=\"tokenization_info\", as_dict=True)\n",
    "        with tf.Session() as sess:\n",
    "            vocab_file, do_lower_case = sess.run([tokenization_info[\"vocab_file\"],\n",
    "                                                  tokenization_info[\"do_lower_case\"]])\n",
    "\n",
    "    return bert.tokenization.FullTokenizer(vocab_file=vocab_file, do_lower_case=do_lower_case)\n",
    "\n",
    "tokenizer = create_tokenizer_from_hub_module()"
   ]
  },
  {
   "cell_type": "markdown",
   "metadata": {},
   "source": [
    "##### Time to run the pre-trained BERT tokenizer on our input Question text"
   ]
  },
  {
   "cell_type": "code",
   "execution_count": 106,
   "metadata": {},
   "outputs": [
    {
     "name": "stderr",
     "output_type": "stream",
     "text": [
      "I1020 23:58:37.776691 139704171878208 run_classifier.py:774] Writing example 0 of 5381\n",
      "I1020 23:58:37.777919 139704171878208 run_classifier.py:461] *** Example ***\n",
      "I1020 23:58:37.778488 139704171878208 run_classifier.py:462] guid: None\n",
      "I1020 23:58:37.779036 139704171878208 run_classifier.py:464] tokens: [CLS] how did ser ##f ##dom develop in and then leave russia ? [SEP]\n",
      "I1020 23:58:37.779569 139704171878208 run_classifier.py:465] input_ids: 101 2129 2106 14262 2546 9527 4503 1999 1998 2059 2681 3607 1029 102 0 0 0 0 0 0\n",
      "I1020 23:58:37.780084 139704171878208 run_classifier.py:466] input_mask: 1 1 1 1 1 1 1 1 1 1 1 1 1 1 0 0 0 0 0 0\n",
      "I1020 23:58:37.780637 139704171878208 run_classifier.py:467] segment_ids: 0 0 0 0 0 0 0 0 0 0 0 0 0 0 0 0 0 0 0 0\n",
      "I1020 23:58:37.782909 139704171878208 run_classifier.py:468] label: DESC (id = 1)\n",
      "I1020 23:58:37.783759 139704171878208 run_classifier.py:461] *** Example ***\n",
      "I1020 23:58:37.784299 139704171878208 run_classifier.py:462] guid: None\n",
      "I1020 23:58:37.784969 139704171878208 run_classifier.py:464] tokens: [CLS] what films featured the character pope ##ye doyle ? [SEP]\n",
      "I1020 23:58:37.785483 139704171878208 run_classifier.py:465] input_ids: 101 2054 3152 2956 1996 2839 4831 6672 11294 1029 102 0 0 0 0 0 0 0 0 0\n",
      "I1020 23:58:37.785995 139704171878208 run_classifier.py:466] input_mask: 1 1 1 1 1 1 1 1 1 1 1 0 0 0 0 0 0 0 0 0\n",
      "I1020 23:58:37.786522 139704171878208 run_classifier.py:467] segment_ids: 0 0 0 0 0 0 0 0 0 0 0 0 0 0 0 0 0 0 0 0\n",
      "I1020 23:58:37.787022 139704171878208 run_classifier.py:468] label: ENTY (id = 2)\n",
      "I1020 23:58:37.787745 139704171878208 run_classifier.py:461] *** Example ***\n",
      "I1020 23:58:37.788261 139704171878208 run_classifier.py:462] guid: None\n",
      "I1020 23:58:37.788789 139704171878208 run_classifier.py:464] tokens: [CLS] how can i find a list of celebrities ' real names ? [SEP]\n",
      "I1020 23:58:37.789331 139704171878208 run_classifier.py:465] input_ids: 101 2129 2064 1045 2424 1037 2862 1997 12330 1005 2613 3415 1029 102 0 0 0 0 0 0\n",
      "I1020 23:58:37.789845 139704171878208 run_classifier.py:466] input_mask: 1 1 1 1 1 1 1 1 1 1 1 1 1 1 0 0 0 0 0 0\n",
      "I1020 23:58:37.790396 139704171878208 run_classifier.py:467] segment_ids: 0 0 0 0 0 0 0 0 0 0 0 0 0 0 0 0 0 0 0 0\n",
      "I1020 23:58:37.790893 139704171878208 run_classifier.py:468] label: DESC (id = 1)\n",
      "I1020 23:58:37.791676 139704171878208 run_classifier.py:461] *** Example ***\n",
      "I1020 23:58:37.792218 139704171878208 run_classifier.py:462] guid: None\n",
      "I1020 23:58:37.792740 139704171878208 run_classifier.py:464] tokens: [CLS] what f ##ow ##l grabs the spotlight after the chinese year of the monkey ? [SEP]\n",
      "I1020 23:58:37.793452 139704171878208 run_classifier.py:465] input_ids: 101 2054 1042 5004 2140 13273 1996 17763 2044 1996 2822 2095 1997 1996 10608 1029 102 0 0 0\n",
      "I1020 23:58:37.793962 139704171878208 run_classifier.py:466] input_mask: 1 1 1 1 1 1 1 1 1 1 1 1 1 1 1 1 1 0 0 0\n",
      "I1020 23:58:37.794474 139704171878208 run_classifier.py:467] segment_ids: 0 0 0 0 0 0 0 0 0 0 0 0 0 0 0 0 0 0 0 0\n",
      "I1020 23:58:37.794984 139704171878208 run_classifier.py:468] label: ENTY (id = 2)\n",
      "I1020 23:58:37.795668 139704171878208 run_classifier.py:461] *** Example ***\n",
      "I1020 23:58:37.796167 139704171878208 run_classifier.py:462] guid: None\n",
      "I1020 23:58:37.796673 139704171878208 run_classifier.py:464] tokens: [CLS] what is the full form of . com ? [SEP]\n",
      "I1020 23:58:37.797180 139704171878208 run_classifier.py:465] input_ids: 101 2054 2003 1996 2440 2433 1997 1012 4012 1029 102 0 0 0 0 0 0 0 0 0\n",
      "I1020 23:58:37.797688 139704171878208 run_classifier.py:466] input_mask: 1 1 1 1 1 1 1 1 1 1 1 0 0 0 0 0 0 0 0 0\n",
      "I1020 23:58:37.798224 139704171878208 run_classifier.py:467] segment_ids: 0 0 0 0 0 0 0 0 0 0 0 0 0 0 0 0 0 0 0 0\n",
      "I1020 23:58:37.798750 139704171878208 run_classifier.py:468] label: ABBR (id = 5)\n",
      "I1020 23:58:38.850954 139704171878208 run_classifier.py:774] Writing example 0 of 500\n",
      "I1020 23:58:38.851894 139704171878208 run_classifier.py:461] *** Example ***\n",
      "I1020 23:58:38.852505 139704171878208 run_classifier.py:462] guid: None\n",
      "I1020 23:58:38.852980 139704171878208 run_classifier.py:464] tokens: [CLS] how far is it from denver to aspen ? [SEP]\n",
      "I1020 23:58:38.853599 139704171878208 run_classifier.py:465] input_ids: 101 2129 2521 2003 2009 2013 7573 2000 18567 1029 102 0 0 0 0 0 0 0 0 0\n",
      "I1020 23:58:38.854465 139704171878208 run_classifier.py:466] input_mask: 1 1 1 1 1 1 1 1 1 1 1 0 0 0 0 0 0 0 0 0\n",
      "I1020 23:58:38.854981 139704171878208 run_classifier.py:467] segment_ids: 0 0 0 0 0 0 0 0 0 0 0 0 0 0 0 0 0 0 0 0\n",
      "I1020 23:58:38.855499 139704171878208 run_classifier.py:468] label: NUM (id = 0)\n",
      "I1020 23:58:38.856201 139704171878208 run_classifier.py:461] *** Example ***\n",
      "I1020 23:58:38.856750 139704171878208 run_classifier.py:462] guid: None\n",
      "I1020 23:58:38.857588 139704171878208 run_classifier.py:464] tokens: [CLS] what county is modest ##o , california in ? [SEP]\n",
      "I1020 23:58:38.858073 139704171878208 run_classifier.py:465] input_ids: 101 2054 2221 2003 10754 2080 1010 2662 1999 1029 102 0 0 0 0 0 0 0 0 0\n",
      "I1020 23:58:38.858631 139704171878208 run_classifier.py:466] input_mask: 1 1 1 1 1 1 1 1 1 1 1 0 0 0 0 0 0 0 0 0\n",
      "I1020 23:58:38.859132 139704171878208 run_classifier.py:467] segment_ids: 0 0 0 0 0 0 0 0 0 0 0 0 0 0 0 0 0 0 0 0\n",
      "I1020 23:58:38.859642 139704171878208 run_classifier.py:468] label: LOC (id = 4)\n",
      "I1020 23:58:38.860250 139704171878208 run_classifier.py:461] *** Example ***\n",
      "I1020 23:58:38.860773 139704171878208 run_classifier.py:462] guid: None\n",
      "I1020 23:58:38.861292 139704171878208 run_classifier.py:464] tokens: [CLS] who was galileo ? [SEP]\n",
      "I1020 23:58:38.861806 139704171878208 run_classifier.py:465] input_ids: 101 2040 2001 21514 1029 102 0 0 0 0 0 0 0 0 0 0 0 0 0 0\n",
      "I1020 23:58:38.862356 139704171878208 run_classifier.py:466] input_mask: 1 1 1 1 1 1 0 0 0 0 0 0 0 0 0 0 0 0 0 0\n",
      "I1020 23:58:38.862900 139704171878208 run_classifier.py:467] segment_ids: 0 0 0 0 0 0 0 0 0 0 0 0 0 0 0 0 0 0 0 0\n",
      "I1020 23:58:38.863400 139704171878208 run_classifier.py:468] label: HUM (id = 3)\n",
      "I1020 23:58:38.864045 139704171878208 run_classifier.py:461] *** Example ***\n",
      "I1020 23:58:38.864746 139704171878208 run_classifier.py:462] guid: None\n",
      "I1020 23:58:38.865215 139704171878208 run_classifier.py:464] tokens: [CLS] what is an atom ? [SEP]\n",
      "I1020 23:58:38.865769 139704171878208 run_classifier.py:465] input_ids: 101 2054 2003 2019 13787 1029 102 0 0 0 0 0 0 0 0 0 0 0 0 0\n",
      "I1020 23:58:38.866302 139704171878208 run_classifier.py:466] input_mask: 1 1 1 1 1 1 1 0 0 0 0 0 0 0 0 0 0 0 0 0\n",
      "I1020 23:58:38.866851 139704171878208 run_classifier.py:467] segment_ids: 0 0 0 0 0 0 0 0 0 0 0 0 0 0 0 0 0 0 0 0\n",
      "I1020 23:58:38.867384 139704171878208 run_classifier.py:468] label: DESC (id = 1)\n",
      "I1020 23:58:38.868046 139704171878208 run_classifier.py:461] *** Example ***\n",
      "I1020 23:58:38.868554 139704171878208 run_classifier.py:462] guid: None\n",
      "I1020 23:58:38.869062 139704171878208 run_classifier.py:464] tokens: [CLS] when did hawaii become a state ? [SEP]\n",
      "I1020 23:58:38.869589 139704171878208 run_classifier.py:465] input_ids: 101 2043 2106 7359 2468 1037 2110 1029 102 0 0 0 0 0 0 0 0 0 0 0\n",
      "I1020 23:58:38.870115 139704171878208 run_classifier.py:466] input_mask: 1 1 1 1 1 1 1 1 1 0 0 0 0 0 0 0 0 0 0 0\n",
      "I1020 23:58:38.870639 139704171878208 run_classifier.py:467] segment_ids: 0 0 0 0 0 0 0 0 0 0 0 0 0 0 0 0 0 0 0 0\n",
      "I1020 23:58:38.871147 139704171878208 run_classifier.py:468] label: NUM (id = 0)\n"
     ]
    }
   ],
   "source": [
    "# This is the max length of tokens in our Question text dataset\n",
    "# Exercise: Modify this MAX_SEQ_LENGTH value to see how it affects the training process\n",
    "MAX_SEQ_LENGTH = 20\n",
    "label_list = list(set(labels_train))\n",
    "\n",
    "train_features = bert.run_classifier.convert_examples_to_features(train_InputSamples, label_list, MAX_SEQ_LENGTH, tokenizer)\n",
    "test_features = bert.run_classifier.convert_examples_to_features(test_InputSamples, label_list, MAX_SEQ_LENGTH, tokenizer)"
   ]
  },
  {
   "cell_type": "markdown",
   "metadata": {},
   "source": [
    "\n",
    "### Model Definition for BERT Q&A classification\n",
    "\n",
    "We'll use Tensorflow's Estimator API/Framework to train our fine-tuned BERT Q&A classification network. See https://www.tensorflow.org/guide/estimator"
   ]
  },
  {
   "cell_type": "code",
   "execution_count": 107,
   "metadata": {},
   "outputs": [],
   "source": [
    "def bert_model(is_predicting, input_ids, input_mask, segment_ids, labels, num_labels):\n",
    "    \"\"\"\n",
    "    Our Custom fine-tuning Q&A classifier definition using BERT output layers.\n",
    "\n",
    "    Parameters\n",
    "    ----------\n",
    "    is_predicting: boolean\n",
    "        Boolean variable to indicate Training or Prediction mode.\n",
    "\n",
    "    input_ids: Numpy Array\n",
    "        BERT vocab token index for the input sample.\n",
    "\n",
    "    input_mask: Numpy Array\n",
    "        Flag to indicate if the input token is masked (1: Yes, 0:No).\n",
    "\n",
    "    segment_ids: Numpy Array\n",
    "        Flag to indicate which sentence the token belongs to. (0: 1st sentence, 1:2nd sentence).\n",
    "        \n",
    "    labels: Numpy Array\n",
    "        Classification label for the input.\n",
    "        \n",
    "    num_labels: integer\n",
    "        Total number of labels\n",
    "\n",
    "    Returns\n",
    "    -------\n",
    "    In Training Mode return (Training Loss, Evaluation Labels, Evaluation probs per sample) tuple\n",
    "    In Prediction Mode return (Evaluation Labels, Evaluation probs per sample) tuple\n",
    "\n",
    "    \"\"\"\n",
    "    bert_module = hub.Module( BERT_MODEL_HUB,trainable=True)\n",
    "    bert_inputs = dict( input_ids=input_ids, input_mask=input_mask, segment_ids=segment_ids)\n",
    "    bert_outputs = bert_module(inputs=bert_inputs, signature=\"tokens\", as_dict=True)\n",
    "\n",
    "    # Use \"pooled_output\" for classification tasks on an entire sentence.\n",
    "    # Use \"sequence_outputs\" for token-level output.\n",
    "    output_layer = bert_outputs[\"pooled_output\"]\n",
    "\n",
    "    hidden_size = output_layer.shape[-1].value\n",
    "\n",
    "    # Tunable layer.\n",
    "    output_weights = tf.get_variable(\"output_weights\", [num_labels, hidden_size],\n",
    "                                     initializer=tf.truncated_normal_initializer(stddev=0.02))\n",
    "\n",
    "    output_bias = tf.get_variable(\"output_bias\", [num_labels], initializer=tf.zeros_initializer())\n",
    "\n",
    "    with tf.variable_scope(\"loss\"):\n",
    "\n",
    "        # Dropout helps prevent overfitting\n",
    "        output_layer = tf.nn.dropout(output_layer, keep_prob=0.9)\n",
    "\n",
    "        logits = tf.matmul(output_layer, output_weights, transpose_b=True)\n",
    "        logits = tf.nn.bias_add(logits, output_bias)\n",
    "        log_probs = tf.nn.log_softmax(logits, axis=-1)\n",
    "\n",
    "        # Convert labels into one-hot encoding\n",
    "        one_hot_labels = tf.one_hot(labels, depth=num_labels, dtype=tf.float32)\n",
    "\n",
    "        predicted_labels = tf.squeeze(tf.argmax(log_probs, axis=-1, output_type=tf.int32))\n",
    "        # If we're predicting, we want predicted labels and the probabiltiies.\n",
    "        if is_predicting:\n",
    "            return (predicted_labels, log_probs)\n",
    "\n",
    "        # If we're train/eval, compute loss between predicted and actual label\n",
    "        per_example_loss = -tf.reduce_sum(one_hot_labels * log_probs, axis=-1)\n",
    "        loss = tf.reduce_mean(per_example_loss)\n",
    "        \n",
    "        return (loss, predicted_labels, log_probs)"
   ]
  },
  {
   "cell_type": "markdown",
   "metadata": {},
   "source": [
    "##### Estimator driver logic for Training, Evaluation and Predict modes"
   ]
  },
  {
   "cell_type": "code",
   "execution_count": 108,
   "metadata": {},
   "outputs": [],
   "source": [
    "def model_fn_builder(num_labels, learning_rate, num_train_steps, num_warmup_steps):\n",
    "    \"\"\"\n",
    "    Estimator driver logic for Training, Evaluation and Predict modes\n",
    "    \n",
    "    Parameters\n",
    "    ----------\n",
    "    num_labels : integer\n",
    "        Total number of labels\n",
    "        \n",
    "    learning_rate : float\n",
    "        Learning rate for underlying neural network\n",
    "        \n",
    "    num_train_steps: integer\n",
    "        Number of steps to train (Sample Size/(Batch Size*Number of Epochs))\n",
    "        \n",
    "    num_warmup_steps: float\n",
    "        Dynamic learning rate adjustment proportion\n",
    "        \n",
    "    Returns\n",
    "    -------\n",
    "    model_fn closure: Python Object\n",
    "        Returns a closure of the driver logic\n",
    "    \n",
    "    \"\"\"\n",
    "\n",
    "    def model_fn(features, labels, mode, params):\n",
    "        \"\"\"\n",
    "        Definition for Training, Evaluation and Predict modes\n",
    "        \n",
    "        Parameters\n",
    "        ----------\n",
    "        features: Dictionary\n",
    "            Training/Test features\n",
    "            \n",
    "        labels: Numpy Array\n",
    "            Train/Test labels\n",
    "            \n",
    "        mode: Numpy Array\n",
    "            Train/Eval/Predict\n",
    "            \n",
    "        params: Dictionary\n",
    "            Dict with training hyperparams\n",
    "            \n",
    "        Returns\n",
    "        -------\n",
    "        EstimatorSpec: tf.estimator.EstimatorSpec\n",
    "            https://www.tensorflow.org/api_docs/python/tf/estimator/EstimatorSpec\n",
    "        \n",
    "        \"\"\"\n",
    "\n",
    "        input_ids = features[\"input_ids\"]\n",
    "        input_mask = features[\"input_mask\"]\n",
    "        segment_ids = features[\"segment_ids\"]\n",
    "        label_ids = features[\"label_ids\"]\n",
    "\n",
    "        is_predicting = (mode == tf.estimator.ModeKeys.PREDICT)\n",
    "\n",
    "        # TRAIN and EVAL\n",
    "        if not is_predicting:\n",
    "\n",
    "            # Get BERT model definition\n",
    "            (loss, predicted_labels, log_probs) = bert_model(is_predicting, input_ids, input_mask, segment_ids, label_ids, num_labels)\n",
    "\n",
    "            train_op = bert.optimization.create_optimizer(loss, learning_rate, num_train_steps, num_warmup_steps, use_tpu=False)\n",
    "\n",
    "            # Calculate evaluation metrics.\n",
    "            def metric_fn(label_ids, predicted_labels):\n",
    "                \"\"\"\n",
    "                Function to calculate training/evaluation metrics\n",
    "                \"\"\"\n",
    "                \n",
    "                recall = tf.metrics.recall(label_ids, predicted_labels)\n",
    "                precision = tf.metrics.precision(label_ids, predicted_labels)\n",
    "                true_pos = tf.metrics.true_positives(label_ids, predicted_labels)\n",
    "                true_neg = tf.metrics.true_negatives(label_ids, predicted_labels)\n",
    "                false_pos = tf.metrics.false_positives(label_ids, predicted_labels)\n",
    "                false_neg = tf.metrics.false_negatives(label_ids, predicted_labels)\n",
    "                \n",
    "                return {\n",
    "                    \"precision\": precision,\n",
    "                    \"recall\": recall,\n",
    "                    \"true_positives\": true_pos,\n",
    "                    \"true_negatives\": true_neg,\n",
    "                    \"false_positives\": false_pos,\n",
    "                    \"false_negatives\": false_neg\n",
    "                }\n",
    "\n",
    "            eval_metrics = metric_fn(label_ids, predicted_labels)\n",
    "\n",
    "            if mode == tf.estimator.ModeKeys.TRAIN:\n",
    "                return tf.estimator.EstimatorSpec(mode=mode, loss=loss, train_op=train_op)\n",
    "            else:\n",
    "                return tf.estimator.EstimatorSpec(mode=mode, loss=loss, eval_metric_ops=eval_metrics)\n",
    "        else:\n",
    "            (predicted_labels, log_probs) = bert_model(is_predicting, input_ids, input_mask, segment_ids, label_ids, num_labels)\n",
    "\n",
    "            predictions = {\n",
    "                'probabilities': log_probs,\n",
    "                'labels': predicted_labels\n",
    "            }\n",
    "            return tf.estimator.EstimatorSpec(mode, predictions=predictions)\n",
    "\n",
    "    # Return the actual model function in the closure\n",
    "    return model_fn\n"
   ]
  },
  {
   "cell_type": "markdown",
   "metadata": {},
   "source": [
    "##### Define hyperparameters for training"
   ]
  },
  {
   "cell_type": "code",
   "execution_count": 109,
   "metadata": {},
   "outputs": [],
   "source": [
    "# Exercise: Modify the below values and observe the change in the training process\n",
    "# Compute train and warmup steps from batch size\n",
    "BATCH_SIZE = 64\n",
    "LEARNING_RATE = 1e-5\n",
    "NUM_TRAIN_EPOCHS = 5.0\n",
    "WARMUP_PROPORTION = 0.1\n",
    "# Model configs\n",
    "SAVE_CHECKPOINTS_STEPS = 10\n",
    "SAVE_SUMMARY_STEPS = 10"
   ]
  },
  {
   "cell_type": "code",
   "execution_count": 110,
   "metadata": {},
   "outputs": [],
   "source": [
    "# Compute # train and warmup steps from batch size\n",
    "num_train_steps = int(len(train_features) / BATCH_SIZE * NUM_TRAIN_EPOCHS)\n",
    "num_warmup_steps = int(num_train_steps * WARMUP_PROPORTION)"
   ]
  },
  {
   "cell_type": "code",
   "execution_count": 111,
   "metadata": {},
   "outputs": [],
   "source": [
    "# Specify outpit directory and number of checkpoint steps to save\n",
    "run_config = tf.estimator.RunConfig(model_dir='models',\n",
    "                                    save_summary_steps=SAVE_SUMMARY_STEPS,\n",
    "                                    save_checkpoints_steps=SAVE_CHECKPOINTS_STEPS)"
   ]
  },
  {
   "cell_type": "code",
   "execution_count": 112,
   "metadata": {},
   "outputs": [
    {
     "name": "stderr",
     "output_type": "stream",
     "text": [
      "I1020 23:58:38.993506 139704171878208 estimator.py:209] Using config: {'_model_dir': 'models', '_tf_random_seed': None, '_save_summary_steps': 10, '_save_checkpoints_steps': 10, '_save_checkpoints_secs': None, '_session_config': allow_soft_placement: true\n",
      "graph_options {\n",
      "  rewrite_options {\n",
      "    meta_optimizer_iterations: ONE\n",
      "  }\n",
      "}\n",
      ", '_keep_checkpoint_max': 5, '_keep_checkpoint_every_n_hours': 10000, '_log_step_count_steps': 100, '_train_distribute': None, '_device_fn': None, '_protocol': None, '_eval_distribute': None, '_experimental_distribute': None, '_experimental_max_worker_delay_secs': None, '_service': None, '_cluster_spec': <tensorflow.python.training.server_lib.ClusterSpec object at 0x7f0c6828b7f0>, '_task_type': 'worker', '_task_id': 0, '_global_id_in_cluster': 0, '_master': '', '_evaluation_master': '', '_is_chief': True, '_num_ps_replicas': 0, '_num_worker_replicas': 1}\n"
     ]
    }
   ],
   "source": [
    "model_fn = model_fn_builder(num_labels=len(label_list), learning_rate=LEARNING_RATE,\n",
    "                            num_train_steps=num_train_steps, num_warmup_steps=num_warmup_steps)\n",
    "\n",
    "estimator = tf.estimator.Estimator(model_fn=model_fn, config=run_config, params={\"batch_size\": BATCH_SIZE})"
   ]
  },
  {
   "cell_type": "code",
   "execution_count": 113,
   "metadata": {},
   "outputs": [],
   "source": [
    "# Create an input function for training. drop_remainder = True for using TPUs.\n",
    "train_input_fn = bert.run_classifier.input_fn_builder( features=train_features, seq_length=MAX_SEQ_LENGTH,\n",
    "                                                      is_training=True, drop_remainder=False)"
   ]
  },
  {
   "cell_type": "markdown",
   "metadata": {},
   "source": [
    "##### Start Training"
   ]
  },
  {
   "cell_type": "code",
   "execution_count": 121,
   "metadata": {
    "scrolled": true
   },
   "outputs": [
    {
     "name": "stderr",
     "output_type": "stream",
     "text": [
      "W1021 00:01:52.274090 139704171878208 deprecation.py:323] From /home/ec2-user/anaconda3/envs/tensorflow_p36/lib/python3.6/site-packages/tensorflow/python/training/training_util.py:236: Variable.initialized_value (from tensorflow.python.ops.variables) is deprecated and will be removed in a future version.\n",
      "Instructions for updating:\n",
      "Use Variable.read_value. Variables in 2.X are initialized automatically both in eager and graph (inside tf.defun) contexts.\n"
     ]
    },
    {
     "name": "stdout",
     "output_type": "stream",
     "text": [
      "Start Training\n"
     ]
    },
    {
     "name": "stderr",
     "output_type": "stream",
     "text": [
      "I1021 00:01:52.790899 139704171878208 estimator.py:1145] Calling model_fn.\n",
      "I1021 00:01:56.310527 139704171878208 saver.py:1499] Saver not created because there are no variables in the graph to restore\n",
      "/home/ec2-user/anaconda3/envs/tensorflow_p36/lib/python3.6/site-packages/tensorflow/python/ops/gradients_util.py:93: UserWarning: Converting sparse IndexedSlices to a dense Tensor of unknown shape. This may consume a large amount of memory.\n",
      "  \"Converting sparse IndexedSlices to a dense Tensor of unknown shape. \"\n",
      "I1021 00:02:05.976285 139704171878208 estimator.py:1147] Done calling model_fn.\n",
      "I1021 00:02:05.978904 139704171878208 basic_session_run_hooks.py:541] Create CheckpointSaverHook.\n",
      "I1021 00:02:09.818846 139704171878208 monitored_session.py:240] Graph was finalized.\n",
      "I1021 00:02:14.325299 139704171878208 session_manager.py:500] Running local_init_op.\n",
      "I1021 00:02:14.633926 139704171878208 session_manager.py:502] Done running local_init_op.\n",
      "I1021 00:02:23.863315 139704171878208 basic_session_run_hooks.py:606] Saving checkpoints for 0 into models/model.ckpt.\n",
      "I1021 00:02:35.703777 139704171878208 basic_session_run_hooks.py:262] loss = 1.8792443, step = 1\n",
      "I1021 00:02:56.933883 139704171878208 basic_session_run_hooks.py:606] Saving checkpoints for 10 into models/model.ckpt.\n",
      "I1021 00:03:22.217900 139704171878208 basic_session_run_hooks.py:606] Saving checkpoints for 20 into models/model.ckpt.\n",
      "I1021 00:03:40.844120 139704171878208 basic_session_run_hooks.py:606] Saving checkpoints for 30 into models/model.ckpt.\n",
      "I1021 00:03:59.408563 139704171878208 basic_session_run_hooks.py:606] Saving checkpoints for 40 into models/model.ckpt.\n",
      "I1021 00:04:18.232782 139704171878208 basic_session_run_hooks.py:606] Saving checkpoints for 50 into models/model.ckpt.\n",
      "W1021 00:04:19.605679 139704171878208 deprecation.py:323] From /home/ec2-user/anaconda3/envs/tensorflow_p36/lib/python3.6/site-packages/tensorflow/python/training/saver.py:960: remove_checkpoint (from tensorflow.python.training.checkpoint_management) is deprecated and will be removed in a future version.\n",
      "Instructions for updating:\n",
      "Use standard file APIs to delete files with this prefix.\n",
      "I1021 00:04:37.865327 139704171878208 basic_session_run_hooks.py:606] Saving checkpoints for 60 into models/model.ckpt.\n",
      "I1021 00:04:56.958139 139704171878208 basic_session_run_hooks.py:606] Saving checkpoints for 70 into models/model.ckpt.\n",
      "I1021 00:05:15.895488 139704171878208 basic_session_run_hooks.py:606] Saving checkpoints for 80 into models/model.ckpt.\n",
      "I1021 00:05:34.984364 139704171878208 basic_session_run_hooks.py:606] Saving checkpoints for 90 into models/model.ckpt.\n",
      "W1021 00:05:40.957823 139704171878208 basic_session_run_hooks.py:724] It seems that global step (tf.train.get_global_step) has not been increased. Current value (could be stable): 91 vs previous value: 91. You could increase the global step by passing tf.train.get_global_step() to Optimizer.apply_gradients or Optimizer.minimize.\n",
      "I1021 00:05:54.038923 139704171878208 basic_session_run_hooks.py:606] Saving checkpoints for 100 into models/model.ckpt.\n",
      "I1021 00:06:04.890853 139704171878208 basic_session_run_hooks.py:692] global_step/sec: 0.47804\n",
      "I1021 00:06:04.891821 139704171878208 basic_session_run_hooks.py:260] loss = 0.2495918, step = 101 (209.188 sec)\n",
      "I1021 00:06:19.584069 139704171878208 basic_session_run_hooks.py:606] Saving checkpoints for 110 into models/model.ckpt.\n",
      "I1021 00:06:38.548229 139704171878208 basic_session_run_hooks.py:606] Saving checkpoints for 120 into models/model.ckpt.\n",
      "I1021 00:06:57.397050 139704171878208 basic_session_run_hooks.py:606] Saving checkpoints for 130 into models/model.ckpt.\n",
      "I1021 00:07:16.496736 139704171878208 basic_session_run_hooks.py:606] Saving checkpoints for 140 into models/model.ckpt.\n",
      "I1021 00:07:35.722585 139704171878208 basic_session_run_hooks.py:606] Saving checkpoints for 150 into models/model.ckpt.\n",
      "I1021 00:07:55.041064 139704171878208 basic_session_run_hooks.py:606] Saving checkpoints for 160 into models/model.ckpt.\n",
      "I1021 00:08:14.125098 139704171878208 basic_session_run_hooks.py:606] Saving checkpoints for 170 into models/model.ckpt.\n",
      "I1021 00:08:33.233553 139704171878208 basic_session_run_hooks.py:606] Saving checkpoints for 180 into models/model.ckpt.\n",
      "I1021 00:08:52.079800 139704171878208 basic_session_run_hooks.py:606] Saving checkpoints for 190 into models/model.ckpt.\n",
      "I1021 00:09:11.069355 139704171878208 basic_session_run_hooks.py:606] Saving checkpoints for 200 into models/model.ckpt.\n",
      "I1021 00:09:15.387121 139704171878208 basic_session_run_hooks.py:692] global_step/sec: 0.524945\n",
      "I1021 00:09:15.388061 139704171878208 basic_session_run_hooks.py:260] loss = 0.064966775, step = 201 (190.496 sec)\n",
      "I1021 00:09:30.168951 139704171878208 basic_session_run_hooks.py:606] Saving checkpoints for 210 into models/model.ckpt.\n",
      "I1021 00:09:49.211436 139704171878208 basic_session_run_hooks.py:606] Saving checkpoints for 220 into models/model.ckpt.\n",
      "I1021 00:10:08.141078 139704171878208 basic_session_run_hooks.py:606] Saving checkpoints for 230 into models/model.ckpt.\n",
      "I1021 00:10:27.132670 139704171878208 basic_session_run_hooks.py:606] Saving checkpoints for 240 into models/model.ckpt.\n",
      "I1021 00:10:45.911091 139704171878208 basic_session_run_hooks.py:606] Saving checkpoints for 250 into models/model.ckpt.\n",
      "I1021 00:11:04.892364 139704171878208 basic_session_run_hooks.py:606] Saving checkpoints for 260 into models/model.ckpt.\n",
      "I1021 00:11:24.045709 139704171878208 basic_session_run_hooks.py:606] Saving checkpoints for 270 into models/model.ckpt.\n",
      "I1021 00:11:43.097114 139704171878208 basic_session_run_hooks.py:606] Saving checkpoints for 280 into models/model.ckpt.\n",
      "I1021 00:12:02.026645 139704171878208 basic_session_run_hooks.py:606] Saving checkpoints for 290 into models/model.ckpt.\n",
      "I1021 00:12:21.152182 139704171878208 basic_session_run_hooks.py:606] Saving checkpoints for 300 into models/model.ckpt.\n",
      "I1021 00:12:25.697412 139704171878208 basic_session_run_hooks.py:692] global_step/sec: 0.525458\n",
      "I1021 00:12:25.698399 139704171878208 basic_session_run_hooks.py:260] loss = 0.07119317, step = 301 (190.310 sec)\n",
      "I1021 00:12:40.359567 139704171878208 basic_session_run_hooks.py:606] Saving checkpoints for 310 into models/model.ckpt.\n",
      "I1021 00:12:59.505412 139704171878208 basic_session_run_hooks.py:606] Saving checkpoints for 320 into models/model.ckpt.\n",
      "I1021 00:13:18.521575 139704171878208 basic_session_run_hooks.py:606] Saving checkpoints for 330 into models/model.ckpt.\n",
      "I1021 00:13:37.423883 139704171878208 basic_session_run_hooks.py:606] Saving checkpoints for 340 into models/model.ckpt.\n",
      "I1021 00:13:56.321564 139704171878208 basic_session_run_hooks.py:606] Saving checkpoints for 350 into models/model.ckpt.\n",
      "I1021 00:14:15.250697 139704171878208 basic_session_run_hooks.py:606] Saving checkpoints for 360 into models/model.ckpt.\n",
      "I1021 00:14:34.255733 139704171878208 basic_session_run_hooks.py:606] Saving checkpoints for 370 into models/model.ckpt.\n",
      "I1021 00:14:53.177366 139704171878208 basic_session_run_hooks.py:606] Saving checkpoints for 380 into models/model.ckpt.\n",
      "I1021 00:15:12.083275 139704171878208 basic_session_run_hooks.py:606] Saving checkpoints for 390 into models/model.ckpt.\n",
      "I1021 00:15:31.145691 139704171878208 basic_session_run_hooks.py:606] Saving checkpoints for 400 into models/model.ckpt.\n",
      "I1021 00:15:35.440285 139704171878208 basic_session_run_hooks.py:692] global_step/sec: 0.527029\n",
      "I1021 00:15:35.441376 139704171878208 basic_session_run_hooks.py:260] loss = 0.00987707, step = 401 (189.743 sec)\n",
      "I1021 00:15:50.102003 139704171878208 basic_session_run_hooks.py:606] Saving checkpoints for 410 into models/model.ckpt.\n",
      "I1021 00:16:09.067125 139704171878208 basic_session_run_hooks.py:606] Saving checkpoints for 420 into models/model.ckpt.\n",
      "I1021 00:16:12.120735 139704171878208 estimator.py:368] Loss for final step: 0.012505842.\n"
     ]
    },
    {
     "name": "stdout",
     "output_type": "stream",
     "text": [
      "End Training\n"
     ]
    }
   ],
   "source": [
    "print('Start Training')\n",
    "estimator.train(input_fn=train_input_fn, max_steps=num_train_steps)\n",
    "print(\"End Training\")"
   ]
  },
  {
   "cell_type": "markdown",
   "metadata": {},
   "source": [
    "##### Visualize the training metrics on the Tensorboard"
   ]
  },
  {
   "cell_type": "code",
   "execution_count": null,
   "metadata": {},
   "outputs": [],
   "source": [
    "import tensorboard\n",
    "!tensorboard --logdir ."
   ]
  },
  {
   "cell_type": "markdown",
   "metadata": {},
   "source": [
    "##### Evaluate the trained model"
   ]
  },
  {
   "cell_type": "code",
   "execution_count": 122,
   "metadata": {},
   "outputs": [],
   "source": [
    "test_input_fn = run_classifier.input_fn_builder(features=test_features, seq_length=MAX_SEQ_LENGTH,\n",
    "                                                is_training=False, drop_remainder=False)"
   ]
  },
  {
   "cell_type": "code",
   "execution_count": 123,
   "metadata": {},
   "outputs": [
    {
     "name": "stderr",
     "output_type": "stream",
     "text": [
      "I1021 00:16:21.092340 139704171878208 estimator.py:1145] Calling model_fn.\n",
      "I1021 00:16:24.628030 139704171878208 saver.py:1499] Saver not created because there are no variables in the graph to restore\n",
      "/home/ec2-user/anaconda3/envs/tensorflow_p36/lib/python3.6/site-packages/tensorflow/python/ops/gradients_util.py:93: UserWarning: Converting sparse IndexedSlices to a dense Tensor of unknown shape. This may consume a large amount of memory.\n",
      "  \"Converting sparse IndexedSlices to a dense Tensor of unknown shape. \"\n",
      "I1021 00:16:34.409988 139704171878208 estimator.py:1147] Done calling model_fn.\n",
      "I1021 00:16:34.432067 139704171878208 evaluation.py:255] Starting evaluation at 2019-10-21T00:16:34Z\n",
      "I1021 00:16:35.933473 139704171878208 monitored_session.py:240] Graph was finalized.\n",
      "I1021 00:16:35.936528 139704171878208 saver.py:1280] Restoring parameters from models/model.ckpt-420\n",
      "I1021 00:16:39.020625 139704171878208 session_manager.py:500] Running local_init_op.\n",
      "I1021 00:16:39.333652 139704171878208 session_manager.py:502] Done running local_init_op.\n",
      "I1021 00:16:45.428935 139704171878208 evaluation.py:275] Finished evaluation at 2019-10-21-00:16:45\n",
      "I1021 00:16:45.429843 139704171878208 estimator.py:2039] Saving dict for global step 420: false_negatives = 2.0, false_positives = 0.0, global_step = 420, loss = 0.122957096, precision = 1.0, recall = 0.99483204, true_negatives = 113.0, true_positives = 385.0\n",
      "I1021 00:16:45.430671 139704171878208 estimator.py:2099] Saving 'checkpoint_path' summary for global step 420: models/model.ckpt-420\n"
     ]
    }
   ],
   "source": [
    "metrics = estimator.evaluate(input_fn=test_input_fn, steps=None)\n",
    "metrics[\"accuracy\"] = (metrics[\"true_positives\"] + metrics[\"true_negatives\"])/(metrics[\"true_positives\"] + metrics[\"true_negatives\"]+metrics[\"false_positives\"] + metrics[\"false_negatives\"])\n",
    "metrics[\"f1_score\"] = (2*metrics[\"precision\"]*metrics[\"recall\"])/(metrics[\"precision\"]+metrics[\"recall\"])"
   ]
  },
  {
   "cell_type": "code",
   "execution_count": 124,
   "metadata": {},
   "outputs": [
    {
     "data": {
      "text/plain": [
       "{'false_negatives': 2.0,\n",
       " 'false_positives': 0.0,\n",
       " 'loss': 0.122957096,\n",
       " 'precision': 1.0,\n",
       " 'recall': 0.99483204,\n",
       " 'true_negatives': 113.0,\n",
       " 'true_positives': 385.0,\n",
       " 'global_step': 420,\n",
       " 'accuracy': 0.996,\n",
       " 'f1_score': 0.9974093251863407}"
      ]
     },
     "execution_count": 124,
     "metadata": {},
     "output_type": "execute_result"
    }
   ],
   "source": [
    "metrics"
   ]
  },
  {
   "cell_type": "markdown",
   "metadata": {},
   "source": [
    "### Conclusions:\n",
    "\n",
    "Performance of BERT on various tasks\n",
    "\n",
    "![dep_nobj-1](images/Conclusion.png)"
   ]
  },
  {
   "cell_type": "markdown",
   "metadata": {},
   "source": [
    "### References:\n",
    "- Universal Sentence Encoder: https://arxiv.org/abs/1803.11175\n",
    "- Tensorflow Estimator: https://www.tensorflow.org/guide/estimator\n",
    "- BERT: https://arxiv.org/abs/1810.04805"
   ]
  }
 ],
 "metadata": {
  "kernelspec": {
   "display_name": "conda_tensorflow_p36",
   "language": "python",
   "name": "conda_tensorflow_p36"
  },
  "language_info": {
   "codemirror_mode": {
    "name": "ipython",
    "version": 3
   },
   "file_extension": ".py",
   "mimetype": "text/x-python",
   "name": "python",
   "nbconvert_exporter": "python",
   "pygments_lexer": "ipython3",
   "version": "3.6.5"
  }
 },
 "nbformat": 4,
 "nbformat_minor": 2
}
